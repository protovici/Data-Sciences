{
 "cells": [
  {
   "cell_type": "markdown",
   "metadata": {},
   "source": [
    "### RNN with TensorFlow\n",
    "- [Code Link](https://towardsdatascience.com/tensorflow-keras-cheat-sheet-5ec99d9a1ccf)"
   ]
  },
  {
   "cell_type": "code",
   "execution_count": 3,
   "metadata": {},
   "outputs": [
    {
     "name": "stdout",
     "output_type": "stream",
     "text": [
      "##########  Library Versions  ##########\n",
      " Numpy Version: 1.21.4\n",
      " Pandas Version: 1.4.0\n",
      " Keras Version: 2.8.0\n",
      " TensorFlow Version: 2.8.0\n",
      " Seaborn Version: 0.11.2\n"
     ]
    }
   ],
   "source": [
    "import numpy as np\n",
    "import pandas as pd\n",
    "import matplotlib.pyplot as plt\n",
    "import seaborn as sns\n",
    "\n",
    "import tensorflow as tf\n",
    "from tensorflow import keras\n",
    "from tensorflow.keras import layers\n",
    "\n",
    "# special imports for CV and NLP\n",
    "from tensorflow.keras.preprocessing.image import ImageDataGenerator\n",
    "from tensorflow.keras.preprocessing.text import Tokenizer\n",
    "from tensorflow.keras.preprocessing.sequence import pad_sequences\n",
    "\n",
    "print('##########  Library Versions  ##########')\n",
    "print(f' Numpy Version: {np.__version__}')\n",
    "print(f' Pandas Version: {pd.__version__}')\n",
    "print(f' Keras Version: {keras.__version__}')\n",
    "print(f' TensorFlow Version: {tf.__version__}')\n",
    "print(f' Seaborn Version: {sns.__version__}')"
   ]
  },
  {
   "cell_type": "code",
   "execution_count": 8,
   "metadata": {},
   "outputs": [],
   "source": [
    "# Constaints:\n",
    "\n",
    "NUM_EPOCHS = 10\n",
    "BATCH_SIZE = 32"
   ]
  },
  {
   "cell_type": "code",
   "execution_count": 9,
   "metadata": {},
   "outputs": [
    {
     "name": "stdout",
     "output_type": "stream",
     "text": [
      "BBC news dataset dowloaded from https://www.kaggle.com/yufengdev/bbc-fulltext-and-category\n",
      "Dataset size: 2225\n",
      "Train set size: 1780\n",
      "Validation set size: 445\n",
      "\n"
     ]
    }
   ],
   "source": [
    "# Read data into dataframe:\n",
    "df = pd.read_csv(r'C:\\Data Sciences\\Data\\all_data_files\\bbc-text.csv')\n",
    "\n",
    "# Split features into dependant/independant variables:\n",
    "sentences = df['text'].to_numpy()\n",
    "labels = df['category']\n",
    "dataset_size = len(sentences)\n",
    "training_size = int(len(sentences) * 0.8)\n",
    "\n",
    "# Split dataset into train/test sets:\n",
    "training_sentences = sentences[:training_size]\n",
    "training_labels_text = labels[:training_size]\n",
    "validation_sentences = sentences[training_size:]\n",
    "validation_labels_text = labels[training_size:]\n",
    "\n",
    "# Encode variables to data for vectorization:\n",
    "label_tokenizer = Tokenizer()\n",
    "label_tokenizer.fit_on_texts(training_labels_text)\n",
    "training_labels = np.array(label_tokenizer.texts_to_sequences(training_labels_text))\n",
    "validation_labels = np.array(label_tokenizer.texts_to_sequences(validation_labels_text))\n",
    "\n",
    "num_classes_nlp = len(np.unique(training_labels))\n",
    "\n",
    "print('BBC news dataset dowloaded from https://www.kaggle.com/yufengdev/bbc-fulltext-and-category')\n",
    "print(f'Dataset size: {dataset_size}')\n",
    "print(f'Train set size: {len(training_sentences)}')\n",
    "print(f'Validation set size: {len(validation_sentences)}')\n",
    "print('')\n",
    "#print(f'First training sentence: {training_sentences[3]}')\n",
    "#print(f'First training label: {training_labels[3]}')\n",
    "\n",
    "# default parameters\n",
    "vocab_size = 2000\n",
    "embedding_dim = 32\n",
    "max_length = 125\n",
    "trunc_type = \"post\"\n",
    "padding_type = \"post\"\n",
    "oov_tok = \"<OOV>\"\n",
    "\n",
    "# \n",
    "tokenizer = Tokenizer(num_words=vocab_size, oov_token=oov_tok)\n",
    "tokenizer.fit_on_texts(training_sentences)\n",
    "\n",
    "training_sequences = tokenizer.texts_to_sequences(training_sentences)\n",
    "training_padded = pad_sequences(training_sequences,\n",
    "                                maxlen=max_length,\n",
    "                                padding=padding_type,\n",
    "                                truncating=trunc_type)\n",
    "\n",
    "validation_sequences = tokenizer.texts_to_sequences(validation_sentences)\n",
    "validation_padded = pad_sequences(validation_sequences,\n",
    "                                  maxlen=max_length,\n",
    "                                  padding=padding_type)\n"
   ]
  },
  {
   "cell_type": "code",
   "execution_count": 10,
   "metadata": {},
   "outputs": [],
   "source": [
    "#token_lens = []\n",
    "\n",
    "#for txt in sentences:\n",
    "#  tokens = tokenizer.encode(txt, max_length=512)\n",
    "#  token_lens.append(len(tokens))\n",
    "\n",
    "#sns.distplot(token_lens)\n",
    "#plt.title('Token Count Distribution')\n",
    "#plt.xlim([0, 512]);\n",
    "#plt.xlabel('Token count')"
   ]
  },
  {
   "cell_type": "code",
   "execution_count": 11,
   "metadata": {},
   "outputs": [
    {
     "name": "stdout",
     "output_type": "stream",
     "text": [
      "Model: \"sequential_1\"\n",
      "_________________________________________________________________\n",
      " Layer (type)                Output Shape              Param #   \n",
      "=================================================================\n",
      " embedding_1 (Embedding)     (None, 125, 32)           64000     \n",
      "                                                                 \n",
      " bidirectional_2 (Bidirectio  (None, 125, 64)          16640     \n",
      " nal)                                                            \n",
      "                                                                 \n",
      " bidirectional_3 (Bidirectio  (None, 32)               10368     \n",
      " nal)                                                            \n",
      "                                                                 \n",
      " dropout_1 (Dropout)         (None, 32)                0         \n",
      "                                                                 \n",
      " dense_2 (Dense)             (None, 16)                528       \n",
      "                                                                 \n",
      " dense_3 (Dense)             (None, 6)                 102       \n",
      "                                                                 \n",
      "=================================================================\n",
      "Total params: 91,638\n",
      "Trainable params: 91,638\n",
      "Non-trainable params: 0\n",
      "_________________________________________________________________\n",
      "Epoch 1/10\n",
      "56/56 [==============================] - ETA: 0s - loss: 1.7187 - accuracy: 0.2107\n",
      "Epoch 1: val_loss improved from inf to 1.63163, saving model to model_callback.h5\n",
      "56/56 [==============================] - 18s 175ms/step - loss: 1.7187 - accuracy: 0.2107 - val_loss: 1.6316 - val_accuracy: 0.2360\n",
      "Epoch 2/10\n",
      "56/56 [==============================] - ETA: 0s - loss: 1.6199 - accuracy: 0.2298\n",
      "Epoch 2: val_loss improved from 1.63163 to 1.58654, saving model to model_callback.h5\n",
      "56/56 [==============================] - 7s 125ms/step - loss: 1.6199 - accuracy: 0.2298 - val_loss: 1.5865 - val_accuracy: 0.2315\n",
      "Epoch 3/10\n",
      "56/56 [==============================] - ETA: 0s - loss: 1.4170 - accuracy: 0.3607\n",
      "Epoch 3: val_loss improved from 1.58654 to 1.33727, saving model to model_callback.h5\n",
      "56/56 [==============================] - 7s 129ms/step - loss: 1.4170 - accuracy: 0.3607 - val_loss: 1.3373 - val_accuracy: 0.3528\n",
      "Epoch 4/10\n",
      "56/56 [==============================] - ETA: 0s - loss: 1.4996 - accuracy: 0.3258\n",
      "Epoch 4: val_loss did not improve from 1.33727\n",
      "56/56 [==============================] - 7s 126ms/step - loss: 1.4996 - accuracy: 0.3258 - val_loss: 1.5060 - val_accuracy: 0.3101\n",
      "Epoch 5/10\n",
      "56/56 [==============================] - ETA: 0s - loss: 1.3784 - accuracy: 0.3910\n",
      "Epoch 5: val_loss did not improve from 1.33727\n",
      "56/56 [==============================] - 7s 125ms/step - loss: 1.3784 - accuracy: 0.3910 - val_loss: 1.3569 - val_accuracy: 0.4315\n",
      "Epoch 6/10\n",
      "56/56 [==============================] - ETA: 0s - loss: 1.1493 - accuracy: 0.5067\n",
      "Epoch 6: val_loss improved from 1.33727 to 1.17434, saving model to model_callback.h5\n",
      "56/56 [==============================] - 7s 126ms/step - loss: 1.1493 - accuracy: 0.5067 - val_loss: 1.1743 - val_accuracy: 0.5371\n",
      "Epoch 7/10\n",
      "56/56 [==============================] - ETA: 0s - loss: 0.9667 - accuracy: 0.6067\n",
      "Epoch 7: val_loss did not improve from 1.17434\n",
      "56/56 [==============================] - 7s 126ms/step - loss: 0.9667 - accuracy: 0.6067 - val_loss: 1.3092 - val_accuracy: 0.5213\n",
      "Epoch 8/10\n",
      "56/56 [==============================] - ETA: 0s - loss: 0.9008 - accuracy: 0.6506\n",
      "Epoch 8: val_loss did not improve from 1.17434\n",
      "56/56 [==============================] - 7s 124ms/step - loss: 0.9008 - accuracy: 0.6506 - val_loss: 1.4454 - val_accuracy: 0.4247\n",
      "Epoch 9/10\n",
      "56/56 [==============================] - ETA: 0s - loss: 0.7030 - accuracy: 0.7747\n",
      "Epoch 9: val_loss improved from 1.17434 to 1.12148, saving model to model_callback.h5\n",
      "56/56 [==============================] - 7s 129ms/step - loss: 0.7030 - accuracy: 0.7747 - val_loss: 1.1215 - val_accuracy: 0.6449\n",
      "Epoch 10/10\n",
      "56/56 [==============================] - ETA: 0s - loss: 0.8637 - accuracy: 0.6910\n",
      "Epoch 10: val_loss improved from 1.12148 to 1.12022, saving model to model_callback.h5\n",
      "56/56 [==============================] - 8s 141ms/step - loss: 0.8637 - accuracy: 0.6910 - val_loss: 1.1202 - val_accuracy: 0.5146\n",
      "\n",
      "###########  Validation Metrics  ##########\n",
      "14/14 [==============================] - 0s 34ms/step - loss: 1.1202 - accuracy: 0.5146\n"
     ]
    },
    {
     "data": {
      "text/plain": [
       "[1.120224952697754, 0.5146067142486572]"
      ]
     },
     "execution_count": 11,
     "metadata": {},
     "output_type": "execute_result"
    }
   ],
   "source": [
    "checkpoint_cb = tf.keras.callbacks.ModelCheckpoint(\n",
    "    filepath='model_callback.h5',\n",
    "    save_weights_only=True,\n",
    "    monitor='val_loss',  # 'val_accuracy'\n",
    "    mode='min',  # 'max'\n",
    "    save_best_only=True,\n",
    "    verbose=1)\n",
    "\n",
    "earlystop_cb = tf.keras.callbacks.EarlyStopping(\n",
    "    monitor='loss',\n",
    "    patience=5,\n",
    "    verbose=1)\n",
    "\n",
    "callbacks = [earlystop_cb, checkpoint_cb]\n",
    "\n",
    "# RNN for NLP\n",
    "model = tf.keras.Sequential([\n",
    "    layers.Embedding(vocab_size,\n",
    "                     embedding_dim,\n",
    "                     input_length=max_length),\n",
    "    layers.Bidirectional(layers.LSTM(32, return_sequences=True)),\n",
    "    layers.Bidirectional(layers.LSTM(16)),\n",
    "    layers.Dropout(0.5),\n",
    "    layers.Dense(16, activation='relu'),\n",
    "    layers.Dense(6, activation='softmax')  # multiclass classification\n",
    "])\n",
    "\n",
    "model.summary()\n",
    "\n",
    "model.compile(optimizer='adam',\n",
    "              loss='sparse_categorical_crossentropy',\n",
    "              metrics=['accuracy'])\n",
    "\n",
    "history = model.fit(\n",
    "    training_padded,\n",
    "    training_labels,\n",
    "    epochs=NUM_EPOCHS,\n",
    "    shuffle = True,\n",
    "    callbacks = callbacks,\n",
    "    workers = 10,\n",
    "    use_multiprocessing = True,\n",
    "    validation_data=(validation_padded, validation_labels),\n",
    "    verbose=1)\n",
    "\n",
    "print('')\n",
    "print('###########  Validation Metrics  ##########')\n",
    "model.evaluate(validation_padded, validation_labels)"
   ]
  },
  {
   "cell_type": "code",
   "execution_count": 12,
   "metadata": {},
   "outputs": [
    {
     "data": {
      "image/png": "[encoded data removed]",
      "text/plain": [
       "<Figure size 432x288 with 1 Axes>"
      ]
     },
     "metadata": {
      "needs_background": "light"
     },
     "output_type": "display_data"
    },
    {
     "data": {
      "image/png": "[encoded data removed]",
      "text/plain": [
       "<Figure size 432x288 with 1 Axes>"
      ]
     },
     "metadata": {
      "needs_background": "light"
     },
     "output_type": "display_data"
    }
   ],
   "source": [
    "def plot_learning_curves(history, parameter):\n",
    "    \"\"\" \n",
    "    Plot learning curves from 'history' object.\n",
    "\n",
    "    Parameters:\n",
    "        history (History object): result of the `fit` method execution\n",
    "        parameter (str): parameter to explore: 'accuracy', 'loss', etc.\n",
    "\n",
    "    >>> history = model.fit(...)\n",
    "    >>> plot_learning_curves(history, \"loss\")\n",
    "    >>> plot_learning_curves(history, \"accuracy\")\n",
    "    >>> plot_learning_curves(history, \"mse\")\n",
    "    \"\"\"\n",
    "\n",
    "    plt.plot(history.history[parameter])\n",
    "    plt.plot(history.history['val_'+parameter])\n",
    "    plt.xlabel(\"Epochs\")\n",
    "    plt.ylabel(parameter)\n",
    "    plt.legend([parameter, 'val_'+parameter])\n",
    "    plt.show()\n",
    "\n",
    "\n",
    "plot_learning_curves(history, \"loss\")\n",
    "plot_learning_curves(history, \"accuracy\")"
   ]
  },
  {
   "cell_type": "code",
   "execution_count": 13,
   "metadata": {},
   "outputs": [
    {
     "data": {
      "image/png": "[encoded data removed]",
      "text/plain": [
       "<IPython.core.display.Image object>"
      ]
     },
     "execution_count": 13,
     "metadata": {},
     "output_type": "execute_result"
    }
   ],
   "source": [
    "tf.keras.utils.plot_model(model)"
   ]
  },
  {
   "cell_type": "code",
   "execution_count": null,
   "metadata": {},
   "outputs": [],
   "source": []
  }
 ],
 "metadata": {
  "interpreter": {
   "hash": "aa56f10656e765b10b0fa6921c9377155cf3138c7e6c93f27140685f1d44fb62"
  },
  "kernelspec": {
   "display_name": "Python 3.10.0 64-bit",
   "language": "python",
   "name": "python3"
  },
  "language_info": {
   "codemirror_mode": {
    "name": "ipython",
    "version": 3
   },
   "file_extension": ".py",
   "mimetype": "text/x-python",
   "name": "python",
   "nbconvert_exporter": "python",
   "pygments_lexer": "ipython3",
   "version": "3.10.0"
  },
  "orig_nbformat": 4
 },
 "nbformat": 4,
 "nbformat_minor": 2
}
