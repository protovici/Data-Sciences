{
 "cells": [
  {
   "cell_type": "code",
   "execution_count": 2,
   "metadata": {},
   "outputs": [],
   "source": [
    "import pandas as pd\n",
    "\n",
    "# https://medium.com/epfl-extension-school/advanced-exploratory-data-analysis-eda-with-python-536fa83c578a"
   ]
  },
  {
   "cell_type": "code",
   "execution_count": 4,
   "metadata": {},
   "outputs": [],
   "source": [
    "from sklearn.datasets import fetch_openml\n",
    "\n",
    "# Download the dataset from openml\n",
    "dataset = fetch_openml(data_id=42803, as_frame=True)\n",
    "\n",
    "# Extract feature matrix X and show 5 random samples\n",
    "df_X = dataset[\"frame\"]"
   ]
  },
  {
   "cell_type": "code",
   "execution_count": 7,
   "metadata": {},
   "outputs": [
    {
     "data": {
      "text/plain": [
       "(363243, 67)"
      ]
     },
     "execution_count": 7,
     "metadata": {},
     "output_type": "execute_result"
    }
   ],
   "source": [
    "df_X.shape"
   ]
  },
  {
   "cell_type": "code",
   "execution_count": 8,
   "metadata": {},
   "outputs": [
    {
     "name": "stdout",
     "output_type": "stream",
     "text": [
      "<class 'pandas.core.frame.DataFrame'>\n",
      "RangeIndex: 363243 entries, 0 to 363242\n",
      "Data columns (total 67 columns):\n",
      " #   Column                                       Non-Null Count   Dtype  \n",
      "---  ------                                       --------------   -----  \n",
      " 0   Accident_Index                               363243 non-null  object \n",
      " 1   Vehicle_Reference_df_res                     363243 non-null  float64\n",
      " 2   Vehicle_Type                                 363181 non-null  float64\n",
      " 3   Towing_and_Articulation                      362864 non-null  float64\n",
      " 4   Vehicle_Manoeuvre                            363059 non-null  float64\n",
      " 5   Vehicle_Location-Restricted_Lane             363067 non-null  float64\n",
      " 6   Junction_Location                            363159 non-null  float64\n",
      " 7   Skidding_and_Overturning                     363067 non-null  float64\n",
      " 8   Hit_Object_in_Carriageway                    363080 non-null  float64\n",
      " 9   Vehicle_Leaving_Carriageway                  363084 non-null  float64\n",
      " 10  Hit_Object_off_Carriageway                   363242 non-null  float64\n",
      " 11  1st_Point_of_Impact                          363037 non-null  float64\n",
      " 12  Was_Vehicle_Left_Hand_Drive?                 361760 non-null  float64\n",
      " 13  Journey_Purpose_of_Driver                    363221 non-null  float64\n",
      " 14  Sex_of_Driver                                363243 non-null  object \n",
      " 15  Age_of_Driver                                327374 non-null  float64\n",
      " 16  Age_Band_of_Driver                           327374 non-null  float64\n",
      " 17  Engine_Capacity_(CC)                         269897 non-null  float64\n",
      " 18  Propulsion_Code                              270607 non-null  float64\n",
      " 19  Age_of_Vehicle                               256138 non-null  float64\n",
      " 20  Driver_Home_Area_Type                        302534 non-null  float64\n",
      " 21  Location_Easting_OSGR                        319793 non-null  float64\n",
      " 22  Location_Northing_OSGR                       319793 non-null  float64\n",
      " 23  Longitude                                    319793 non-null  float64\n",
      " 24  Latitude                                     319793 non-null  float64\n",
      " 25  Police_Force                                 319866 non-null  float64\n",
      " 26  Accident_Severity                            319866 non-null  float64\n",
      " 27  Number_of_Vehicles                           319866 non-null  float64\n",
      " 28  Number_of_Casualties                         319866 non-null  float64\n",
      " 29  Date                                         319866 non-null  object \n",
      " 30  Day_of_Week                                  319866 non-null  float64\n",
      " 31  Time                                         319822 non-null  object \n",
      " 32  Local_Authority_(District)                   319866 non-null  float64\n",
      " 33  Local_Authority_(Highway)                    319866 non-null  object \n",
      " 34  1st_Road_Class                               319866 non-null  float64\n",
      " 35  1st_Road_Number                              319866 non-null  float64\n",
      " 36  Road_Type                                    319866 non-null  float64\n",
      " 37  Speed_limit                                  319866 non-null  float64\n",
      " 38  Junction_Detail                              319864 non-null  float64\n",
      " 39  Junction_Control                             189222 non-null  float64\n",
      " 40  2nd_Road_Class                               188201 non-null  float64\n",
      " 41  2nd_Road_Number                              318416 non-null  float64\n",
      " 42  Pedestrian_Crossing-Human_Control            319547 non-null  float64\n",
      " 43  Pedestrian_Crossing-Physical_Facilities      319564 non-null  float64\n",
      " 44  Light_Conditions                             319866 non-null  float64\n",
      " 45  Weather_Conditions                           319866 non-null  float64\n",
      " 46  Road_Surface_Conditions                      319350 non-null  float64\n",
      " 47  Special_Conditions_at_Site                   319626 non-null  float64\n",
      " 48  Carriageway_Hazards                          319653 non-null  float64\n",
      " 49  Urban_or_Rural_Area                          319866 non-null  float64\n",
      " 50  Did_Police_Officer_Attend_Scene_of_Accident  319842 non-null  float64\n",
      " 51  LSOA_of_Accident_Location                    298758 non-null  object \n",
      " 52  Vehicle_Reference_df                         363243 non-null  float64\n",
      " 53  Casualty_Reference                           363243 non-null  float64\n",
      " 54  Casualty_Class                               363243 non-null  float64\n",
      " 55  Sex_of_Casualty                              363109 non-null  float64\n",
      " 56  Age_of_Casualty                              357674 non-null  float64\n",
      " 57  Age_Band_of_Casualty                         357674 non-null  float64\n",
      " 58  Casualty_Severity                            363243 non-null  float64\n",
      " 59  Pedestrian_Location                          363241 non-null  float64\n",
      " 60  Pedestrian_Movement                          363241 non-null  float64\n",
      " 61  Car_Passenger                                362481 non-null  float64\n",
      " 62  Bus_or_Coach_Passenger                       363197 non-null  float64\n",
      " 63  Pedestrian_Road_Maintenance_Worker           363077 non-null  float64\n",
      " 64  Casualty_Type                                363243 non-null  float64\n",
      " 65  Casualty_Home_Area_Type                      323448 non-null  float64\n",
      " 66  Casualty_IMD_Decile                          293666 non-null  float64\n",
      "dtypes: float64(61), object(6)\n",
      "memory usage: 185.7+ MB\n"
     ]
    }
   ],
   "source": [
    "df_X.info()"
   ]
  },
  {
   "cell_type": "code",
   "execution_count": 9,
   "metadata": {},
   "outputs": [
    {
     "name": "stdout",
     "output_type": "stream",
     "text": [
      "You seem to have 22 duplicates in your database.\n"
     ]
    },
    {
     "data": {
      "text/plain": [
       "(363221, 67)"
      ]
     },
     "execution_count": 9,
     "metadata": {},
     "output_type": "execute_result"
    }
   ],
   "source": [
    "# Check number of duplicates while ignoring the index feature\n",
    "n_duplicates = df_X.drop(labels=[\"Accident_Index\"], axis=1).duplicated().sum()\n",
    "print(f\"You seem to have {n_duplicates} duplicates in your database.\")\n",
    "\n",
    "#  Extract column names of all features, except 'Accident_Index'\n",
    "columns_to_consider = df_X.drop(labels=[\"Accident_Index\"], axis=1).columns\n",
    "\n",
    "# Drop duplicates based on 'columns_to_consider'\n",
    "df_X = df_X.drop_duplicates(subset=columns_to_consider)\n",
    "df_X.shape"
   ]
  },
  {
   "cell_type": "code",
   "execution_count": 10,
   "metadata": {},
   "outputs": [
    {
     "data": {
      "image/png": "[encoded data removed]",
      "text/plain": [
       "<Figure size 720x576 with 1 Axes>"
      ]
     },
     "metadata": {
      "needs_background": "light"
     },
     "output_type": "display_data"
    }
   ],
   "source": [
    "import matplotlib.pyplot as plt\n",
    "\n",
    "plt.figure(figsize=(10, 8))\n",
    "plt.imshow(df_X.isna(), aspect=\"auto\", interpolation=\"nearest\", cmap=\"gray\")\n",
    "plt.xlabel(\"Column Number\")\n",
    "plt.ylabel(\"Sample Number\");"
   ]
  },
  {
   "cell_type": "code",
   "execution_count": 11,
   "metadata": {},
   "outputs": [
    {
     "ename": "ModuleNotFoundError",
     "evalue": "No module named 'missingno'",
     "output_type": "error",
     "traceback": [
      "\u001b[1;31m---------------------------------------------------------------------------\u001b[0m",
      "\u001b[1;31mModuleNotFoundError\u001b[0m                       Traceback (most recent call last)",
      "\u001b[1;32m~\\AppData\\Local\\Temp/ipykernel_8460/3185808900.py\u001b[0m in \u001b[0;36m<module>\u001b[1;34m\u001b[0m\n\u001b[1;32m----> 1\u001b[1;33m \u001b[1;32mimport\u001b[0m \u001b[0mmissingno\u001b[0m \u001b[1;32mas\u001b[0m \u001b[0mmsno\u001b[0m\u001b[1;33m\u001b[0m\u001b[1;33m\u001b[0m\u001b[0m\n\u001b[0m\u001b[0;32m      2\u001b[0m \u001b[1;33m\u001b[0m\u001b[0m\n\u001b[0;32m      3\u001b[0m \u001b[0mmsno\u001b[0m\u001b[1;33m.\u001b[0m\u001b[0mmatrix\u001b[0m\u001b[1;33m(\u001b[0m\u001b[0mdf_X\u001b[0m\u001b[1;33m,\u001b[0m \u001b[0mlabels\u001b[0m\u001b[1;33m=\u001b[0m\u001b[1;32mTrue\u001b[0m\u001b[1;33m,\u001b[0m \u001b[0msort\u001b[0m\u001b[1;33m=\u001b[0m\u001b[1;34m\"descending\"\u001b[0m\u001b[1;33m)\u001b[0m\u001b[1;33m\u001b[0m\u001b[1;33m\u001b[0m\u001b[0m\n",
      "\u001b[1;31mModuleNotFoundError\u001b[0m: No module named 'missingno'"
     ]
    }
   ],
   "source": [
    "import missingno as msno\n",
    "\n",
    "msno.matrix(df_X, labels=True, sort=\"descending\")"
   ]
  },
  {
   "cell_type": "code",
   "execution_count": null,
   "metadata": {},
   "outputs": [],
   "source": []
  }
 ],
 "metadata": {
  "interpreter": {
   "hash": "aa56f10656e765b10b0fa6921c9377155cf3138c7e6c93f27140685f1d44fb62"
  },
  "kernelspec": {
   "display_name": "Python 3.10.0 64-bit",
   "language": "python",
   "name": "python3"
  },
  "language_info": {
   "codemirror_mode": {
    "name": "ipython",
    "version": 3
   },
   "file_extension": ".py",
   "mimetype": "text/x-python",
   "name": "python",
   "nbconvert_exporter": "python",
   "pygments_lexer": "ipython3",
   "version": "3.10.0"
  },
  "orig_nbformat": 4
 },
 "nbformat": 4,
 "nbformat_minor": 2
}
