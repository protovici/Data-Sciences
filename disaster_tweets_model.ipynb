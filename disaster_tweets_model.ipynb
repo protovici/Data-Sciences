{
 "cells": [
  {
   "cell_type": "code",
   "execution_count": null,
   "metadata": {},
   "outputs": [],
   "source": [
    "import numpy as np\n",
    "import pandas as pd\n",
    "from sklearn.feature_extraction.text import CountVectorizer, TfidfVectorizer\n",
    "from sklearn.linear_model import LogisticRegression\n",
    "from sklearn.metrics import accuracy_score, f1_score\n",
    "from sklearn.model_selection import learning_curve, cross_val_score, StratifiedKFold\n",
    "from sklearn.preprocessing import OneHotEncoder, LabelEncoder\n",
    "from sklearn.ensemble import StackingClassifier\n",
    "from sklearn.pipeline import Pipeline\n",
    "from sklearn import svm\n",
    "from sklearn.compose import ColumnTransformer\n",
    "from nltk.tokenize import word_tokenize\n",
    "from nltk.stem import WordNetLemmatizer\n",
    "from xgboost import XGBClassifier\n",
    "from scipy.sparse import hstack\n",
    "from matplotlib import pyplot as plt\n",
    "import re\n",
    "import string\n",
    "import seaborn as sns"
   ]
  },
  {
   "cell_type": "code",
   "execution_count": null,
   "metadata": {},
   "outputs": [],
   "source": [
    "SPLIT_SIZE = 0.8\n",
    "RANDOM_SIZE = 200\n",
    "\n",
    "# Read into a dataframe:\n",
    "df = pd.read_csv(r'C:\\Data Sciences\\Data\\all_data_files\\tweets.csv')\n",
    "df_copy = df.copy()\n",
    "print('\\nTraining Data Shape: ', df_copy.shape)\n",
    "\n",
    "# Split dataframe into spefic ratio:\n",
    "train_df = df_copy.sample(frac = SPLIT_SIZE, random_state = RANDOM_SIZE) #random state is a seed value\n",
    "print('\\nTraining Data Shape: ', train_df.shape)\n",
    "\n",
    "test_df = df_copy.drop(train_df.index)\n",
    "print('\\nTest Data Shape: ', test_df.shape)"
   ]
  },
  {
   "cell_type": "code",
   "execution_count": null,
   "metadata": {},
   "outputs": [],
   "source": [
    "plt.figure(figsize=(10, 8))\n",
    "plt.imshow(df_copy.isna(), aspect=\"auto\", interpolation=\"nearest\", cmap=\"gray\")\n",
    "plt.xlabel(\"Column Number\")\n",
    "plt.ylabel(\"Sample Number\")"
   ]
  },
  {
   "cell_type": "code",
   "execution_count": null,
   "metadata": {},
   "outputs": [],
   "source": [
    "import missingno as msno\n",
    "\n",
    "msno.matrix(df_copy, labels=True, sort=\"descending\")"
   ]
  },
  {
   "cell_type": "code",
   "execution_count": null,
   "metadata": {},
   "outputs": [],
   "source": [
    "df_copy.plot(lw =  0,\n",
    "          marker = \"*\",\n",
    "          subplots = True,\n",
    "          layout = (3, 2),\n",
    "          figsize = (15, 30),\n",
    "          markersize = 1)"
   ]
  },
  {
   "cell_type": "code",
   "execution_count": null,
   "metadata": {},
   "outputs": [],
   "source": [
    "df_copy.describe().transpose()"
   ]
  },
  {
   "cell_type": "code",
   "execution_count": null,
   "metadata": {},
   "outputs": [],
   "source": [
    "df_copy.hist(bins=25, figsize=(15, 25), layout=(5, 2), edgecolor=\"black\")\n",
    "plt.tight_layout()"
   ]
  },
  {
   "cell_type": "code",
   "execution_count": null,
   "metadata": {},
   "outputs": [],
   "source": [
    "# Collects for each feature the most frequent entry\n",
    "most_frequent_entry = df_copy.mode()\n",
    "\n",
    "# Checks for each entry if it contains the most frequent entry\n",
    "df_freq = df_copy.eq(most_frequent_entry.values, axis=1)\n",
    "\n",
    "# Computes the mean of the 'is_most_frequent' occurrence\n",
    "df_freq = df_freq.mean().sort_values(ascending=False)\n",
    "\n",
    "# Show the 5 top features with the highest ratio of singular value content\n",
    "display(df_freq.head())\n",
    "\n",
    "# Visualize the 'df_freq' table\n",
    "df_freq.plot.bar(figsize=(15, 4))"
   ]
  },
  {
   "cell_type": "code",
   "execution_count": 47,
   "metadata": {},
   "outputs": [
    {
     "data": {
      "image/png": "[encoded data removed]",
      "text/plain": [
       "<Figure size 1152x576 with 6 Axes>"
      ]
     },
     "metadata": {
      "needs_background": "light"
     },
     "output_type": "display_data"
    }
   ],
   "source": [
    "# Specify features of interest\n",
    "selected_features = [\"id\", \"keyword\", \"location\", \"text\", \"target\"]\n",
    "\n",
    "# Create a figure with 3 x 2 subplots\n",
    "fig, axes = plt.subplots(ncols=3, nrows=2, figsize=(16, 8))\n",
    "\n",
    "# Loop through these features and plot entries from each feature against `Latitude`\n",
    "for col, ax in zip(selected_features, axes.ravel()):\n",
    "    sns.stripplot(data=df_copy, x=col, y=df_copy[\"target\"], ax=ax,\n",
    "                  palette=\"tab10\", size=2, alpha=0.5)\n",
    "plt.tight_layout()"
   ]
  },
  {
   "cell_type": "code",
   "execution_count": null,
   "metadata": {},
   "outputs": [],
   "source": [
    "# Create a figure with 3 x 2 subplots\n",
    "fig, axes = plt.subplots(ncols=3, nrows=2, figsize=(16, 8))\n",
    "\n",
    "# Loop through these features and plot entries from each feature against `Latitude`\n",
    "for col, ax in zip(selected_features, axes.ravel()):\n",
    "    sns.violinplot(data=df_copy, x=col, y=df_copy[\"location\"], palette=\"Set2\",\n",
    "                   split=True, hue=\"target\", ax=ax)\n",
    "plt.tight_layout()"
   ]
  },
  {
   "cell_type": "code",
   "execution_count": null,
   "metadata": {},
   "outputs": [],
   "source": [
    "df_corr = df_copy.corr(method=\"pearson\")\n",
    "\n",
    "# Create labels for the correlation matrix\n",
    "labels = np.where(np.abs(df_corr)>0.75, \"S\",\n",
    "                  np.where(np.abs(df_corr)>0.5, \"M\",\n",
    "                           np.where(np.abs(df_corr)>0.25, \"W\", \"\")))\n",
    "\n",
    "# Plot correlation matrix\n",
    "plt.figure(figsize=(15, 15))\n",
    "sns.heatmap(df_corr, mask=np.eye(len(df_corr)), square=True,\n",
    "            center=0, annot=labels, fmt='', linewidths=.5,\n",
    "            cmap=\"vlag\", cbar_kws={\"shrink\": 0.8});"
   ]
  },
  {
   "cell_type": "code",
   "execution_count": null,
   "metadata": {},
   "outputs": [],
   "source": [
    "# Target values on trained data set:\n",
    "print(f\"Proportion of NaN keyword values: {train_df.target.value_counts(normalize = True)}\")\n",
    "print(f\"Proportion of NaN keyword values: {train_df.keyword.isna().sum() / len(train_df)}\")\n",
    "print(f\"Proportion of NaN location values: {train_df.location.isna().sum() / len(train_df)}\")"
   ]
  },
  {
   "cell_type": "code",
   "execution_count": null,
   "metadata": {},
   "outputs": [],
   "source": []
  }
 ],
 "metadata": {
  "interpreter": {
   "hash": "aa56f10656e765b10b0fa6921c9377155cf3138c7e6c93f27140685f1d44fb62"
  },
  "kernelspec": {
   "display_name": "Python 3.10.0 64-bit",
   "language": "python",
   "name": "python3"
  },
  "language_info": {
   "codemirror_mode": {
    "name": "ipython",
    "version": 3
   },
   "file_extension": ".py",
   "mimetype": "text/x-python",
   "name": "python",
   "nbconvert_exporter": "python",
   "pygments_lexer": "ipython3",
   "version": "3.10.0"
  },
  "orig_nbformat": 4
 },
 "nbformat": 4,
 "nbformat_minor": 2
}
