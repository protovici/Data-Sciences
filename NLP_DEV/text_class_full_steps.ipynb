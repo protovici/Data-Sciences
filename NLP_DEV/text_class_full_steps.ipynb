{
 "cells": [
  {
   "cell_type": "markdown",
   "id": "6a2f2dcd-49bd-4a61-acff-d5f8ec5feb22",
   "metadata": {},
   "source": [
    "# Text Classification\n",
    "\n",
    "* [Kaggle Link for Code](https://www.kaggle.com/dikshabhati2002/text-classification-lstm-bert-ml-models/notebook)"
   ]
  },
  {
   "cell_type": "markdown",
   "id": "9cf48ccd",
   "metadata": {},
   "source": [
    "#### Table of Contents:\n",
    "- [Read in Data](#read_in_data)"
   ]
  },
  {
   "cell_type": "code",
   "execution_count": 1,
   "id": "b81990d0-45a0-44fa-a92f-be89a446818e",
   "metadata": {},
   "outputs": [
    {
     "name": "stdout",
     "output_type": "stream",
     "text": [
      "INFO:tensorflow:Enabling eager execution\n",
      "INFO:tensorflow:Enabling v2 tensorshape\n",
      "INFO:tensorflow:Enabling resource variables\n",
      "INFO:tensorflow:Enabling tensor equality\n",
      "INFO:tensorflow:Enabling control flow v2\n"
     ]
    },
    {
     "name": "stderr",
     "output_type": "stream",
     "text": [
      "tq() ### Library Importing Is Complete. ###: 100%|██████████| 20/20 [00:10<00:00,  1.97it/s]"
     ]
    },
    {
     "name": "stdout",
     "output_type": "stream",
     "text": [
      "#####  IMPORTS COMPLETE  #####\n"
     ]
    },
    {
     "name": "stderr",
     "output_type": "stream",
     "text": [
      "\n"
     ]
    }
   ],
   "source": [
    "import os\n",
    "import pandas as pd\n",
    "import numpy as np\n",
    "import random\n",
    "import matplotlib.pyplot as plt\n",
    "import seaborn as sns\n",
    "import plotly.graph_objects as go\n",
    "import re\n",
    "import string\n",
    "import nltk\n",
    "from nltk.corpus import stopwords\n",
    "from nltk.stem import WordNetLemmatizer\n",
    "from sklearn.datasets import fetch_20newsgroups\n",
    "from sklearn.model_selection import train_test_split\n",
    "from sklearn.feature_extraction.text import CountVectorizer,TfidfVectorizer\n",
    "from sklearn.naive_bayes import MultinomialNB\n",
    "from sklearn import svm\n",
    "from time import time\n",
    "from sklearn import linear_model\n",
    "from sklearn import preprocessing\n",
    "from sklearn.model_selection import StratifiedKFold\n",
    "from imblearn.over_sampling import SMOTE\n",
    "from sklearn.ensemble import RandomForestClassifier\n",
    "from sklearn.linear_model import LogisticRegression\n",
    "from sklearn import model_selection\n",
    "from sklearn.metrics import accuracy_score, precision_score, recall_score, plot_confusion_matrix, confusion_matrix, f1_score\n",
    "from statistics import mean\n",
    "import pickle\n",
    "from tensorflow import keras\n",
    "from tensorflow.keras.models import load_model\n",
    "import torch\n",
    "from tqdm.notebook import tqdm\n",
    "from transformers import BertTokenizer\n",
    "from torch.utils.data import TensorDataset\n",
    "from transformers import BertForSequenceClassification\n",
    "from torch.utils.data import DataLoader, RandomSampler, SequentialSampler\n",
    "from transformers import AdamW, get_linear_schedule_with_warmup\n",
    "from tensorflow.keras import layers\n",
    "from tensorflow.keras import losses\n",
    "from tensorflow.keras import utils\n",
    "from tensorflow.keras.layers.experimental.preprocessing import TextVectorization\n",
    "from tensorflow.keras.callbacks import EarlyStopping\n",
    "from tensorflow.keras.preprocessing.text import Tokenizer\n",
    "from tensorflow.keras.preprocessing.sequence import pad_sequences\n",
    "from tensorflow.keras.layers import Dense, Embedding, LSTM, SpatialDropout1D, Bidirectional, Dropout\n",
    "from tqdm import tqdm as tq\n",
    "import time\n",
    "for i in tq(range(20), desc = 'tq() ### Library Importing Is Complete. ###'):\n",
    "    time.sleep(0.5)\n",
    "\n",
    "print('#####  IMPORTS COMPLETE  #####')"
   ]
  },
  {
   "cell_type": "markdown",
   "id": "8888367b-27d5-4754-9fde-e1e56aed16f5",
   "metadata": {},
   "source": [
    "## Read in Data into Dataframe\n",
    "<a id='read_in_data'></a>"
   ]
  },
  {
   "cell_type": "code",
   "execution_count": 2,
   "id": "6bf0d4a7-8630-48e5-8410-3b51e4bf05ca",
   "metadata": {},
   "outputs": [],
   "source": [
    "dataset = fetch_20newsgroups(subset ='train', \n",
    "                             remove=('headers', 'footers', 'quotes'), \n",
    "                             shuffle=True, \n",
    "                             random_state=42)\n",
    "\n",
    "df = pd.DataFrame()\n",
    "df['text'] = dataset.data\n",
    "df['source'] = dataset.target\n",
    "\n",
    "label = []\n",
    "\n",
    "for i in df['source']:\n",
    "    label.append(dataset.target_names[i])\n",
    "\n",
    "df['label']=label"
   ]
  },
  {
   "cell_type": "code",
   "execution_count": 3,
   "id": "1d588425-0d36-4c12-92d0-5526ebe336e6",
   "metadata": {},
   "outputs": [
    {
     "name": "stdout",
     "output_type": "stream",
     "text": [
      "<class 'pandas.core.frame.DataFrame'>\n",
      "RangeIndex: 11314 entries, 0 to 11313\n",
      "Data columns (total 3 columns):\n",
      " #   Column  Non-Null Count  Dtype \n",
      "---  ------  --------------  ----- \n",
      " 0   text    11314 non-null  object\n",
      " 1   source  11314 non-null  int32 \n",
      " 2   label   11314 non-null  object\n",
      "dtypes: int32(1), object(2)\n",
      "memory usage: 221.1+ KB\n"
     ]
    }
   ],
   "source": [
    "df.info()"
   ]
  },
  {
   "cell_type": "code",
   "execution_count": 4,
   "id": "d1148dd8-35d9-4aa5-857a-3f112297bd16",
   "metadata": {},
   "outputs": [
    {
     "data": {
      "text/html": [
       "<div>\n",
       "<style scoped>\n",
       "    .dataframe tbody tr th:only-of-type {\n",
       "        vertical-align: middle;\n",
       "    }\n",
       "\n",
       "    .dataframe tbody tr th {\n",
       "        vertical-align: top;\n",
       "    }\n",
       "\n",
       "    .dataframe thead th {\n",
       "        text-align: right;\n",
       "    }\n",
       "</style>\n",
       "<table border=\"1\" class=\"dataframe\">\n",
       "  <thead>\n",
       "    <tr style=\"text-align: right;\">\n",
       "      <th></th>\n",
       "      <th>text</th>\n",
       "      <th>source</th>\n",
       "      <th>label</th>\n",
       "    </tr>\n",
       "  </thead>\n",
       "  <tbody>\n",
       "    <tr>\n",
       "      <th>0</th>\n",
       "      <td>I was wondering if anyone out there could enli...</td>\n",
       "      <td>7</td>\n",
       "      <td>rec.autos</td>\n",
       "    </tr>\n",
       "    <tr>\n",
       "      <th>1</th>\n",
       "      <td>A fair number of brave souls who upgraded thei...</td>\n",
       "      <td>4</td>\n",
       "      <td>comp.sys.mac.hardware</td>\n",
       "    </tr>\n",
       "    <tr>\n",
       "      <th>2</th>\n",
       "      <td>well folks, my mac plus finally gave up the gh...</td>\n",
       "      <td>4</td>\n",
       "      <td>comp.sys.mac.hardware</td>\n",
       "    </tr>\n",
       "    <tr>\n",
       "      <th>3</th>\n",
       "      <td>\\nDo you have Weitek's address/phone number?  ...</td>\n",
       "      <td>1</td>\n",
       "      <td>comp.graphics</td>\n",
       "    </tr>\n",
       "    <tr>\n",
       "      <th>4</th>\n",
       "      <td>From article &lt;C5owCB.n3p@world.std.com&gt;, by to...</td>\n",
       "      <td>14</td>\n",
       "      <td>sci.space</td>\n",
       "    </tr>\n",
       "  </tbody>\n",
       "</table>\n",
       "</div>"
      ],
      "text/plain": [
       "                                                text  source  \\\n",
       "0  I was wondering if anyone out there could enli...       7   \n",
       "1  A fair number of brave souls who upgraded thei...       4   \n",
       "2  well folks, my mac plus finally gave up the gh...       4   \n",
       "3  \\nDo you have Weitek's address/phone number?  ...       1   \n",
       "4  From article <C5owCB.n3p@world.std.com>, by to...      14   \n",
       "\n",
       "                   label  \n",
       "0              rec.autos  \n",
       "1  comp.sys.mac.hardware  \n",
       "2  comp.sys.mac.hardware  \n",
       "3          comp.graphics  \n",
       "4              sci.space  "
      ]
     },
     "execution_count": 4,
     "metadata": {},
     "output_type": "execute_result"
    }
   ],
   "source": [
    "df.head(5)"
   ]
  },
  {
   "cell_type": "code",
   "execution_count": 5,
   "id": "f1600423-3786-4132-9114-c24b5f9354b6",
   "metadata": {},
   "outputs": [],
   "source": [
    "# Remove source feature as label will be encoded for dependant:\n",
    "df.drop(['source'], axis = 1, inplace = True)"
   ]
  },
  {
   "cell_type": "code",
   "execution_count": 6,
   "id": "4cc106b2-b073-4a09-ba4c-f53b0b789c54",
   "metadata": {},
   "outputs": [
    {
     "name": "stdout",
     "output_type": "stream",
     "text": [
      "<class 'pandas.core.frame.DataFrame'>\n",
      "RangeIndex: 11314 entries, 0 to 11313\n",
      "Data columns (total 2 columns):\n",
      " #   Column  Non-Null Count  Dtype \n",
      "---  ------  --------------  ----- \n",
      " 0   text    11314 non-null  object\n",
      " 1   label   11314 non-null  object\n",
      "dtypes: object(2)\n",
      "memory usage: 176.9+ KB\n"
     ]
    },
    {
     "data": {
      "text/plain": [
       "rec.sport.hockey            600\n",
       "soc.religion.christian      599\n",
       "rec.motorcycles             598\n",
       "rec.sport.baseball          597\n",
       "sci.crypt                   595\n",
       "sci.med                     594\n",
       "rec.autos                   594\n",
       "comp.windows.x              593\n",
       "sci.space                   593\n",
       "comp.os.ms-windows.misc     591\n",
       "sci.electronics             591\n",
       "comp.sys.ibm.pc.hardware    590\n",
       "misc.forsale                585\n",
       "comp.graphics               584\n",
       "comp.sys.mac.hardware       578\n",
       "talk.politics.mideast       564\n",
       "talk.politics.guns          546\n",
       "alt.atheism                 480\n",
       "talk.politics.misc          465\n",
       "talk.religion.misc          377\n",
       "Name: label, dtype: int64"
      ]
     },
     "execution_count": 6,
     "metadata": {},
     "output_type": "execute_result"
    }
   ],
   "source": [
    "df.info()\n",
    "df['label'].value_counts()"
   ]
  },
  {
   "cell_type": "code",
   "execution_count": 7,
   "id": "f1e96fc7-dbf1-4b2a-88ec-e9caab11eb07",
   "metadata": {},
   "outputs": [],
   "source": [
    "# replace to politics\n",
    "df['label'].replace({'talk.politics.misc':'politics','talk.politics.guns':'politics',\n",
    "                     'talk.politics.mideast':'politics'}, inplace=True)\n",
    "                    \n",
    "# replace to sport\n",
    "df['label'].replace({'rec.sport.hockey':'sport','rec.sport.baseball':'sport'}, inplace=True)\n",
    "                    \n",
    "# replace to religion\n",
    "df['label'].replace({'soc.religion.christian':'religion','talk.religion.misc':'religion'}, inplace=True)\n",
    "                    \n",
    "# replace to computer\n",
    "df['label'].replace({'comp.windows.x':'computer','comp.sys.ibm.pc.hardware':'computer',\n",
    "                    'comp.os.ms-windows.misc':'computer','comp.graphics':'computer',\n",
    "                    'comp.sys.mac.hardware':'computer'}, inplace=True)  \n",
    "# replace to sales\n",
    "df['label'].replace({'misc.forsale':'sales'}, inplace=True)\n",
    "\n",
    "# replace to automobile\n",
    "df['label'].replace({'rec.autos':'automobile','rec.motorcycles':'automobile'}, inplace=True)\n",
    "\n",
    "# replace to science\n",
    "df['label'].replace({'sci.crypt':'science','sci.electronics':'science','sci.space':'science'}, inplace=True)\n",
    "\n",
    "# replace to medicine\n",
    "df['label'].replace({'sci.med':'medicine'}, inplace=True)"
   ]
  },
  {
   "cell_type": "code",
   "execution_count": 8,
   "id": "fbddfb85-b553-4716-9fb2-91c61b7262fe",
   "metadata": {},
   "outputs": [
    {
     "data": {
      "text/plain": [
       "computer       2936\n",
       "science        1779\n",
       "politics       1575\n",
       "sport          1197\n",
       "automobile     1192\n",
       "religion        976\n",
       "medicine        594\n",
       "sales           585\n",
       "alt.atheism     480\n",
       "Name: label, dtype: int64"
      ]
     },
     "execution_count": 8,
     "metadata": {},
     "output_type": "execute_result"
    }
   ],
   "source": [
    "# Value counts for labeled features:\n",
    "df['label'].value_counts()"
   ]
  },
  {
   "cell_type": "code",
   "execution_count": 9,
   "id": "33c1373d-8c06-4127-b41c-ee422936b905",
   "metadata": {},
   "outputs": [
    {
     "data": {
      "text/html": [
       "<div>\n",
       "<style scoped>\n",
       "    .dataframe tbody tr th:only-of-type {\n",
       "        vertical-align: middle;\n",
       "    }\n",
       "\n",
       "    .dataframe tbody tr th {\n",
       "        vertical-align: top;\n",
       "    }\n",
       "\n",
       "    .dataframe thead th {\n",
       "        text-align: right;\n",
       "    }\n",
       "</style>\n",
       "<table border=\"1\" class=\"dataframe\">\n",
       "  <thead>\n",
       "    <tr style=\"text-align: right;\">\n",
       "      <th></th>\n",
       "      <th>text</th>\n",
       "      <th>label</th>\n",
       "      <th>Number_of_words</th>\n",
       "    </tr>\n",
       "  </thead>\n",
       "  <tbody>\n",
       "    <tr>\n",
       "      <th>0</th>\n",
       "      <td>I was wondering if anyone out there could enli...</td>\n",
       "      <td>automobile</td>\n",
       "      <td>91</td>\n",
       "    </tr>\n",
       "    <tr>\n",
       "      <th>1</th>\n",
       "      <td>A fair number of brave souls who upgraded thei...</td>\n",
       "      <td>computer</td>\n",
       "      <td>90</td>\n",
       "    </tr>\n",
       "    <tr>\n",
       "      <th>2</th>\n",
       "      <td>well folks, my mac plus finally gave up the gh...</td>\n",
       "      <td>computer</td>\n",
       "      <td>307</td>\n",
       "    </tr>\n",
       "    <tr>\n",
       "      <th>3</th>\n",
       "      <td>\\nDo you have Weitek's address/phone number?  ...</td>\n",
       "      <td>computer</td>\n",
       "      <td>15</td>\n",
       "    </tr>\n",
       "    <tr>\n",
       "      <th>4</th>\n",
       "      <td>From article &lt;C5owCB.n3p@world.std.com&gt;, by to...</td>\n",
       "      <td>science</td>\n",
       "      <td>72</td>\n",
       "    </tr>\n",
       "  </tbody>\n",
       "</table>\n",
       "</div>"
      ],
      "text/plain": [
       "                                                text       label  \\\n",
       "0  I was wondering if anyone out there could enli...  automobile   \n",
       "1  A fair number of brave souls who upgraded thei...    computer   \n",
       "2  well folks, my mac plus finally gave up the gh...    computer   \n",
       "3  \\nDo you have Weitek's address/phone number?  ...    computer   \n",
       "4  From article <C5owCB.n3p@world.std.com>, by to...     science   \n",
       "\n",
       "   Number_of_words  \n",
       "0               91  \n",
       "1               90  \n",
       "2              307  \n",
       "3               15  \n",
       "4               72  "
      ]
     },
     "execution_count": 9,
     "metadata": {},
     "output_type": "execute_result"
    }
   ],
   "source": [
    "# Apply word count on text data:\n",
    "df['Number_of_words'] = df['text'].apply(lambda x:len(str(x).split()))\n",
    "df.head()"
   ]
  },
  {
   "cell_type": "code",
   "execution_count": 10,
   "id": "0698647d-766d-41ff-ac2f-d7dace798834",
   "metadata": {},
   "outputs": [
    {
     "data": {
      "text/plain": [
       "count    11314.000000\n",
       "mean       185.827382\n",
       "std        523.971647\n",
       "min          0.000000\n",
       "25%         40.000000\n",
       "50%         83.000000\n",
       "75%        167.000000\n",
       "max      11765.000000\n",
       "Name: Number_of_words, dtype: float64"
      ]
     },
     "execution_count": 10,
     "metadata": {},
     "output_type": "execute_result"
    }
   ],
   "source": [
    "# Number of words stats:\n",
    "df['Number_of_words'].describe()"
   ]
  },
  {
   "cell_type": "code",
   "execution_count": 11,
   "id": "1730d7ae-de77-4da9-b684-3e551276922e",
   "metadata": {},
   "outputs": [
    {
     "name": "stdout",
     "output_type": "stream",
     "text": [
      "300\n"
     ]
    }
   ],
   "source": [
    "# Drop all words that equal 0:\n",
    "no_text = df[df['Number_of_words']==0]\n",
    "print(len(no_text))\n",
    "\n",
    "# drop these rows\n",
    "df.drop(no_text.index,inplace=True)"
   ]
  },
  {
   "cell_type": "code",
   "execution_count": 12,
   "id": "40612d1c-4abd-4e18-80da-3a1ad0ec4c22",
   "metadata": {},
   "outputs": [
    {
     "name": "stderr",
     "output_type": "stream",
     "text": [
      "C:\\Users\\proto\\AppData\\Local\\Programs\\Python\\Python39\\lib\\site-packages\\seaborn\\distributions.py:2557: FutureWarning: `distplot` is a deprecated function and will be removed in a future version. Please adapt your code to use either `displot` (a figure-level function with similar flexibility) or `histplot` (an axes-level function for histograms).\n",
      "  warnings.warn(msg, FutureWarning)\n"
     ]
    },
    {
     "data": {
      "text/plain": [
       "Text(0.5, 1.0, 'Frequency distribution of number of words for each text extracted')"
      ]
     },
     "execution_count": 12,
     "metadata": {},
     "output_type": "execute_result"
    },
    {
     "data": {
      "image/png": "[encoded data removed]",
      "text/plain": [
       "<Figure size 864x432 with 1 Axes>"
      ]
     },
     "metadata": {},
     "output_type": "display_data"
    }
   ],
   "source": [
    "plt.style.use('ggplot')\n",
    "plt.figure(figsize=(12,6))\n",
    "sns.distplot(df['Number_of_words'],kde = False,color=\"red\",bins=200)\n",
    "plt.title(\"Frequency distribution of number of words for each text extracted\", size=20)"
   ]
  },
  {
   "cell_type": "markdown",
   "id": "dc58cf81",
   "metadata": {},
   "source": [
    "## NLP Pre-Processing Stages\n",
    "- Text Cleaning (i.e. text lowercase, remove links, remove punctuation)\n",
    "- Tokenize\n",
    "- Remove Stopwords\n",
    "- Lemmatization\n",
    "- Combine Text (combines lemmatized text into a la chunk) "
   ]
  },
  {
   "cell_type": "code",
   "execution_count": 13,
   "id": "260a5896",
   "metadata": {},
   "outputs": [
    {
     "data": {
      "text/plain": [
       "0    i was wondering if anyone out there could enli...\n",
       "1    a fair number of brave souls who upgraded thei...\n",
       "2    well folks my mac plus finally gave up the gho...\n",
       "3    do you have weiteks addressphone number  id li...\n",
       "4    from article  by tombakerworldstdcom tom a bak...\n",
       "Name: cleaned_text, dtype: object"
      ]
     },
     "execution_count": 13,
     "metadata": {},
     "output_type": "execute_result"
    }
   ],
   "source": [
    "# cleaning the text:\n",
    "\n",
    "def clean_text(text):\n",
    "\n",
    "    '''Make text lowercase, remove text in square brackets,remove links,remove punctuation\n",
    "    and remove words containing numbers.'''\n",
    "    \n",
    "    text = text.lower()\n",
    "    text = re.sub('\\[.*?\\]', '', text)\n",
    "    text = re.sub('https?://\\S+|www\\.\\S+', '', text)\n",
    "    text = re.sub('<.*?>+', '', text)\n",
    "    text = re.sub('[%s]' % re.escape(string.punctuation), '', text)\n",
    "    text = re.sub('\\n', '', text)\n",
    "    text = re.sub('\\w*\\d\\w*', '', text)\n",
    "    return text\n",
    "\n",
    "# Applying the cleaning function to  datasets\n",
    "df['cleaned_text'] = df['text'].apply(lambda x: clean_text(x))\n",
    "\n",
    "# updated text\n",
    "df['cleaned_text'].head()"
   ]
  },
  {
   "cell_type": "markdown",
   "id": "d1db2e1f",
   "metadata": {},
   "source": [
    "## Tokenize the Cleaned Text Features"
   ]
  },
  {
   "cell_type": "code",
   "execution_count": 14,
   "id": "531809ed",
   "metadata": {},
   "outputs": [
    {
     "data": {
      "text/html": [
       "<div>\n",
       "<style scoped>\n",
       "    .dataframe tbody tr th:only-of-type {\n",
       "        vertical-align: middle;\n",
       "    }\n",
       "\n",
       "    .dataframe tbody tr th {\n",
       "        vertical-align: top;\n",
       "    }\n",
       "\n",
       "    .dataframe thead th {\n",
       "        text-align: right;\n",
       "    }\n",
       "</style>\n",
       "<table border=\"1\" class=\"dataframe\">\n",
       "  <thead>\n",
       "    <tr style=\"text-align: right;\">\n",
       "      <th></th>\n",
       "      <th>text</th>\n",
       "      <th>label</th>\n",
       "      <th>Number_of_words</th>\n",
       "      <th>cleaned_text</th>\n",
       "      <th>tokens</th>\n",
       "    </tr>\n",
       "  </thead>\n",
       "  <tbody>\n",
       "    <tr>\n",
       "      <th>0</th>\n",
       "      <td>I was wondering if anyone out there could enli...</td>\n",
       "      <td>automobile</td>\n",
       "      <td>91</td>\n",
       "      <td>i was wondering if anyone out there could enli...</td>\n",
       "      <td>[i, was, wondering, if, anyone, out, there, co...</td>\n",
       "    </tr>\n",
       "    <tr>\n",
       "      <th>1</th>\n",
       "      <td>A fair number of brave souls who upgraded thei...</td>\n",
       "      <td>computer</td>\n",
       "      <td>90</td>\n",
       "      <td>a fair number of brave souls who upgraded thei...</td>\n",
       "      <td>[a, fair, number, of, brave, souls, who, upgra...</td>\n",
       "    </tr>\n",
       "    <tr>\n",
       "      <th>2</th>\n",
       "      <td>well folks, my mac plus finally gave up the gh...</td>\n",
       "      <td>computer</td>\n",
       "      <td>307</td>\n",
       "      <td>well folks my mac plus finally gave up the gho...</td>\n",
       "      <td>[well, folks, my, mac, plus, finally, gave, up...</td>\n",
       "    </tr>\n",
       "    <tr>\n",
       "      <th>3</th>\n",
       "      <td>\\nDo you have Weitek's address/phone number?  ...</td>\n",
       "      <td>computer</td>\n",
       "      <td>15</td>\n",
       "      <td>do you have weiteks addressphone number  id li...</td>\n",
       "      <td>[do, you, have, weiteks, addressphone, number,...</td>\n",
       "    </tr>\n",
       "    <tr>\n",
       "      <th>4</th>\n",
       "      <td>From article &lt;C5owCB.n3p@world.std.com&gt;, by to...</td>\n",
       "      <td>science</td>\n",
       "      <td>72</td>\n",
       "      <td>from article  by tombakerworldstdcom tom a bak...</td>\n",
       "      <td>[from, article, by, tombakerworldstdcom, tom, ...</td>\n",
       "    </tr>\n",
       "  </tbody>\n",
       "</table>\n",
       "</div>"
      ],
      "text/plain": [
       "                                                text       label  \\\n",
       "0  I was wondering if anyone out there could enli...  automobile   \n",
       "1  A fair number of brave souls who upgraded thei...    computer   \n",
       "2  well folks, my mac plus finally gave up the gh...    computer   \n",
       "3  \\nDo you have Weitek's address/phone number?  ...    computer   \n",
       "4  From article <C5owCB.n3p@world.std.com>, by to...     science   \n",
       "\n",
       "   Number_of_words                                       cleaned_text  \\\n",
       "0               91  i was wondering if anyone out there could enli...   \n",
       "1               90  a fair number of brave souls who upgraded thei...   \n",
       "2              307  well folks my mac plus finally gave up the gho...   \n",
       "3               15  do you have weiteks addressphone number  id li...   \n",
       "4               72  from article  by tombakerworldstdcom tom a bak...   \n",
       "\n",
       "                                              tokens  \n",
       "0  [i, was, wondering, if, anyone, out, there, co...  \n",
       "1  [a, fair, number, of, brave, souls, who, upgra...  \n",
       "2  [well, folks, my, mac, plus, finally, gave, up...  \n",
       "3  [do, you, have, weiteks, addressphone, number,...  \n",
       "4  [from, article, by, tombakerworldstdcom, tom, ...  "
      ]
     },
     "execution_count": 14,
     "metadata": {},
     "output_type": "execute_result"
    }
   ],
   "source": [
    "tokenizer = nltk.tokenize.RegexpTokenizer(r'\\w+')\n",
    "\n",
    "df['tokens'] = df['cleaned_text'].apply(lambda x:tokenizer.tokenize(x))\n",
    "df.head()"
   ]
  },
  {
   "cell_type": "markdown",
   "id": "3e365691",
   "metadata": {},
   "source": [
    "## Removing Stopwords within Tokeized Feature"
   ]
  },
  {
   "cell_type": "code",
   "execution_count": 15,
   "id": "6491d57a",
   "metadata": {},
   "outputs": [
    {
     "data": {
      "text/html": [
       "<div>\n",
       "<style scoped>\n",
       "    .dataframe tbody tr th:only-of-type {\n",
       "        vertical-align: middle;\n",
       "    }\n",
       "\n",
       "    .dataframe tbody tr th {\n",
       "        vertical-align: top;\n",
       "    }\n",
       "\n",
       "    .dataframe thead th {\n",
       "        text-align: right;\n",
       "    }\n",
       "</style>\n",
       "<table border=\"1\" class=\"dataframe\">\n",
       "  <thead>\n",
       "    <tr style=\"text-align: right;\">\n",
       "      <th></th>\n",
       "      <th>text</th>\n",
       "      <th>label</th>\n",
       "      <th>Number_of_words</th>\n",
       "      <th>cleaned_text</th>\n",
       "      <th>tokens</th>\n",
       "      <th>stopwordremove_tokens</th>\n",
       "    </tr>\n",
       "  </thead>\n",
       "  <tbody>\n",
       "    <tr>\n",
       "      <th>0</th>\n",
       "      <td>I was wondering if anyone out there could enli...</td>\n",
       "      <td>automobile</td>\n",
       "      <td>91</td>\n",
       "      <td>i was wondering if anyone out there could enli...</td>\n",
       "      <td>[i, was, wondering, if, anyone, out, there, co...</td>\n",
       "      <td>[wondering, anyone, could, enlighten, car, saw...</td>\n",
       "    </tr>\n",
       "    <tr>\n",
       "      <th>1</th>\n",
       "      <td>A fair number of brave souls who upgraded thei...</td>\n",
       "      <td>computer</td>\n",
       "      <td>90</td>\n",
       "      <td>a fair number of brave souls who upgraded thei...</td>\n",
       "      <td>[a, fair, number, of, brave, souls, who, upgra...</td>\n",
       "      <td>[fair, number, brave, souls, upgraded, si, clo...</td>\n",
       "    </tr>\n",
       "    <tr>\n",
       "      <th>2</th>\n",
       "      <td>well folks, my mac plus finally gave up the gh...</td>\n",
       "      <td>computer</td>\n",
       "      <td>307</td>\n",
       "      <td>well folks my mac plus finally gave up the gho...</td>\n",
       "      <td>[well, folks, my, mac, plus, finally, gave, up...</td>\n",
       "      <td>[well, folks, mac, plus, finally, gave, ghost,...</td>\n",
       "    </tr>\n",
       "    <tr>\n",
       "      <th>3</th>\n",
       "      <td>\\nDo you have Weitek's address/phone number?  ...</td>\n",
       "      <td>computer</td>\n",
       "      <td>15</td>\n",
       "      <td>do you have weiteks addressphone number  id li...</td>\n",
       "      <td>[do, you, have, weiteks, addressphone, number,...</td>\n",
       "      <td>[weiteks, addressphone, number, id, like, get,...</td>\n",
       "    </tr>\n",
       "    <tr>\n",
       "      <th>4</th>\n",
       "      <td>From article &lt;C5owCB.n3p@world.std.com&gt;, by to...</td>\n",
       "      <td>science</td>\n",
       "      <td>72</td>\n",
       "      <td>from article  by tombakerworldstdcom tom a bak...</td>\n",
       "      <td>[from, article, by, tombakerworldstdcom, tom, ...</td>\n",
       "      <td>[article, tombakerworldstdcom, tom, bakermy, u...</td>\n",
       "    </tr>\n",
       "  </tbody>\n",
       "</table>\n",
       "</div>"
      ],
      "text/plain": [
       "                                                text       label  \\\n",
       "0  I was wondering if anyone out there could enli...  automobile   \n",
       "1  A fair number of brave souls who upgraded thei...    computer   \n",
       "2  well folks, my mac plus finally gave up the gh...    computer   \n",
       "3  \\nDo you have Weitek's address/phone number?  ...    computer   \n",
       "4  From article <C5owCB.n3p@world.std.com>, by to...     science   \n",
       "\n",
       "   Number_of_words                                       cleaned_text  \\\n",
       "0               91  i was wondering if anyone out there could enli...   \n",
       "1               90  a fair number of brave souls who upgraded thei...   \n",
       "2              307  well folks my mac plus finally gave up the gho...   \n",
       "3               15  do you have weiteks addressphone number  id li...   \n",
       "4               72  from article  by tombakerworldstdcom tom a bak...   \n",
       "\n",
       "                                              tokens  \\\n",
       "0  [i, was, wondering, if, anyone, out, there, co...   \n",
       "1  [a, fair, number, of, brave, souls, who, upgra...   \n",
       "2  [well, folks, my, mac, plus, finally, gave, up...   \n",
       "3  [do, you, have, weiteks, addressphone, number,...   \n",
       "4  [from, article, by, tombakerworldstdcom, tom, ...   \n",
       "\n",
       "                               stopwordremove_tokens  \n",
       "0  [wondering, anyone, could, enlighten, car, saw...  \n",
       "1  [fair, number, brave, souls, upgraded, si, clo...  \n",
       "2  [well, folks, mac, plus, finally, gave, ghost,...  \n",
       "3  [weiteks, addressphone, number, id, like, get,...  \n",
       "4  [article, tombakerworldstdcom, tom, bakermy, u...  "
      ]
     },
     "execution_count": 15,
     "metadata": {},
     "output_type": "execute_result"
    }
   ],
   "source": [
    "# removing stopwords\n",
    "def remove_stopwords(text):\n",
    "\n",
    "    words = [w for w in text if w not in stopwords.words('english')]\n",
    "    return words\n",
    "    \n",
    "df['stopwordremove_tokens'] = df['tokens'].apply(lambda x : remove_stopwords(x))\n",
    "df.head()"
   ]
  },
  {
   "cell_type": "markdown",
   "id": "d1322581",
   "metadata": {},
   "source": [
    "## Lemmatization of Tokenized Feature with Stopwords Removed"
   ]
  },
  {
   "cell_type": "code",
   "execution_count": 16,
   "id": "5429f07d",
   "metadata": {},
   "outputs": [
    {
     "data": {
      "text/html": [
       "<div>\n",
       "<style scoped>\n",
       "    .dataframe tbody tr th:only-of-type {\n",
       "        vertical-align: middle;\n",
       "    }\n",
       "\n",
       "    .dataframe tbody tr th {\n",
       "        vertical-align: top;\n",
       "    }\n",
       "\n",
       "    .dataframe thead th {\n",
       "        text-align: right;\n",
       "    }\n",
       "</style>\n",
       "<table border=\"1\" class=\"dataframe\">\n",
       "  <thead>\n",
       "    <tr style=\"text-align: right;\">\n",
       "      <th></th>\n",
       "      <th>text</th>\n",
       "      <th>label</th>\n",
       "      <th>Number_of_words</th>\n",
       "      <th>cleaned_text</th>\n",
       "      <th>tokens</th>\n",
       "      <th>stopwordremove_tokens</th>\n",
       "      <th>lemmatized_text</th>\n",
       "    </tr>\n",
       "  </thead>\n",
       "  <tbody>\n",
       "    <tr>\n",
       "      <th>0</th>\n",
       "      <td>I was wondering if anyone out there could enli...</td>\n",
       "      <td>automobile</td>\n",
       "      <td>91</td>\n",
       "      <td>i was wondering if anyone out there could enli...</td>\n",
       "      <td>[i, was, wondering, if, anyone, out, there, co...</td>\n",
       "      <td>[wondering, anyone, could, enlighten, car, saw...</td>\n",
       "      <td>[wondering, anyone, could, enlighten, car, saw...</td>\n",
       "    </tr>\n",
       "    <tr>\n",
       "      <th>1</th>\n",
       "      <td>A fair number of brave souls who upgraded thei...</td>\n",
       "      <td>computer</td>\n",
       "      <td>90</td>\n",
       "      <td>a fair number of brave souls who upgraded thei...</td>\n",
       "      <td>[a, fair, number, of, brave, souls, who, upgra...</td>\n",
       "      <td>[fair, number, brave, souls, upgraded, si, clo...</td>\n",
       "      <td>[fair, number, brave, soul, upgraded, si, cloc...</td>\n",
       "    </tr>\n",
       "    <tr>\n",
       "      <th>2</th>\n",
       "      <td>well folks, my mac plus finally gave up the gh...</td>\n",
       "      <td>computer</td>\n",
       "      <td>307</td>\n",
       "      <td>well folks my mac plus finally gave up the gho...</td>\n",
       "      <td>[well, folks, my, mac, plus, finally, gave, up...</td>\n",
       "      <td>[well, folks, mac, plus, finally, gave, ghost,...</td>\n",
       "      <td>[well, folk, mac, plus, finally, gave, ghost, ...</td>\n",
       "    </tr>\n",
       "    <tr>\n",
       "      <th>3</th>\n",
       "      <td>\\nDo you have Weitek's address/phone number?  ...</td>\n",
       "      <td>computer</td>\n",
       "      <td>15</td>\n",
       "      <td>do you have weiteks addressphone number  id li...</td>\n",
       "      <td>[do, you, have, weiteks, addressphone, number,...</td>\n",
       "      <td>[weiteks, addressphone, number, id, like, get,...</td>\n",
       "      <td>[weiteks, addressphone, number, id, like, get,...</td>\n",
       "    </tr>\n",
       "    <tr>\n",
       "      <th>4</th>\n",
       "      <td>From article &lt;C5owCB.n3p@world.std.com&gt;, by to...</td>\n",
       "      <td>science</td>\n",
       "      <td>72</td>\n",
       "      <td>from article  by tombakerworldstdcom tom a bak...</td>\n",
       "      <td>[from, article, by, tombakerworldstdcom, tom, ...</td>\n",
       "      <td>[article, tombakerworldstdcom, tom, bakermy, u...</td>\n",
       "      <td>[article, tombakerworldstdcom, tom, bakermy, u...</td>\n",
       "    </tr>\n",
       "  </tbody>\n",
       "</table>\n",
       "</div>"
      ],
      "text/plain": [
       "                                                text       label  \\\n",
       "0  I was wondering if anyone out there could enli...  automobile   \n",
       "1  A fair number of brave souls who upgraded thei...    computer   \n",
       "2  well folks, my mac plus finally gave up the gh...    computer   \n",
       "3  \\nDo you have Weitek's address/phone number?  ...    computer   \n",
       "4  From article <C5owCB.n3p@world.std.com>, by to...     science   \n",
       "\n",
       "   Number_of_words                                       cleaned_text  \\\n",
       "0               91  i was wondering if anyone out there could enli...   \n",
       "1               90  a fair number of brave souls who upgraded thei...   \n",
       "2              307  well folks my mac plus finally gave up the gho...   \n",
       "3               15  do you have weiteks addressphone number  id li...   \n",
       "4               72  from article  by tombakerworldstdcom tom a bak...   \n",
       "\n",
       "                                              tokens  \\\n",
       "0  [i, was, wondering, if, anyone, out, there, co...   \n",
       "1  [a, fair, number, of, brave, souls, who, upgra...   \n",
       "2  [well, folks, my, mac, plus, finally, gave, up...   \n",
       "3  [do, you, have, weiteks, addressphone, number,...   \n",
       "4  [from, article, by, tombakerworldstdcom, tom, ...   \n",
       "\n",
       "                               stopwordremove_tokens  \\\n",
       "0  [wondering, anyone, could, enlighten, car, saw...   \n",
       "1  [fair, number, brave, souls, upgraded, si, clo...   \n",
       "2  [well, folks, mac, plus, finally, gave, ghost,...   \n",
       "3  [weiteks, addressphone, number, id, like, get,...   \n",
       "4  [article, tombakerworldstdcom, tom, bakermy, u...   \n",
       "\n",
       "                                     lemmatized_text  \n",
       "0  [wondering, anyone, could, enlighten, car, saw...  \n",
       "1  [fair, number, brave, soul, upgraded, si, cloc...  \n",
       "2  [well, folk, mac, plus, finally, gave, ghost, ...  \n",
       "3  [weiteks, addressphone, number, id, like, get,...  \n",
       "4  [article, tombakerworldstdcom, tom, bakermy, u...  "
      ]
     },
     "execution_count": 16,
     "metadata": {},
     "output_type": "execute_result"
    }
   ],
   "source": [
    "# lemmatization:\n",
    "lem = WordNetLemmatizer()\n",
    "\n",
    "def lem_word(x):\n",
    "    return [lem.lemmatize(w) for w in x]\n",
    "\n",
    "df['lemmatized_text'] = df['stopwordremove_tokens'].apply(lem_word)\n",
    "df.head()"
   ]
  },
  {
   "cell_type": "markdown",
   "id": "9a03b45a",
   "metadata": {},
   "source": [
    "## Combine Text into Large Chunk into a Feature"
   ]
  },
  {
   "cell_type": "code",
   "execution_count": 17,
   "id": "a8f10870",
   "metadata": {},
   "outputs": [
    {
     "data": {
      "text/html": [
       "<div>\n",
       "<style scoped>\n",
       "    .dataframe tbody tr th:only-of-type {\n",
       "        vertical-align: middle;\n",
       "    }\n",
       "\n",
       "    .dataframe tbody tr th {\n",
       "        vertical-align: top;\n",
       "    }\n",
       "\n",
       "    .dataframe thead th {\n",
       "        text-align: right;\n",
       "    }\n",
       "</style>\n",
       "<table border=\"1\" class=\"dataframe\">\n",
       "  <thead>\n",
       "    <tr style=\"text-align: right;\">\n",
       "      <th></th>\n",
       "      <th>text</th>\n",
       "      <th>label</th>\n",
       "      <th>Number_of_words</th>\n",
       "      <th>cleaned_text</th>\n",
       "      <th>tokens</th>\n",
       "      <th>stopwordremove_tokens</th>\n",
       "      <th>lemmatized_text</th>\n",
       "      <th>final_text</th>\n",
       "    </tr>\n",
       "  </thead>\n",
       "  <tbody>\n",
       "    <tr>\n",
       "      <th>0</th>\n",
       "      <td>I was wondering if anyone out there could enli...</td>\n",
       "      <td>automobile</td>\n",
       "      <td>91</td>\n",
       "      <td>i was wondering if anyone out there could enli...</td>\n",
       "      <td>[i, was, wondering, if, anyone, out, there, co...</td>\n",
       "      <td>[wondering, anyone, could, enlighten, car, saw...</td>\n",
       "      <td>[wondering, anyone, could, enlighten, car, saw...</td>\n",
       "      <td>wondering anyone could enlighten car sawthe da...</td>\n",
       "    </tr>\n",
       "    <tr>\n",
       "      <th>1</th>\n",
       "      <td>A fair number of brave souls who upgraded thei...</td>\n",
       "      <td>computer</td>\n",
       "      <td>90</td>\n",
       "      <td>a fair number of brave souls who upgraded thei...</td>\n",
       "      <td>[a, fair, number, of, brave, souls, who, upgra...</td>\n",
       "      <td>[fair, number, brave, souls, upgraded, si, clo...</td>\n",
       "      <td>[fair, number, brave, soul, upgraded, si, cloc...</td>\n",
       "      <td>fair number brave soul upgraded si clock oscil...</td>\n",
       "    </tr>\n",
       "    <tr>\n",
       "      <th>2</th>\n",
       "      <td>well folks, my mac plus finally gave up the gh...</td>\n",
       "      <td>computer</td>\n",
       "      <td>307</td>\n",
       "      <td>well folks my mac plus finally gave up the gho...</td>\n",
       "      <td>[well, folks, my, mac, plus, finally, gave, up...</td>\n",
       "      <td>[well, folks, mac, plus, finally, gave, ghost,...</td>\n",
       "      <td>[well, folk, mac, plus, finally, gave, ghost, ...</td>\n",
       "      <td>well folk mac plus finally gave ghost weekend ...</td>\n",
       "    </tr>\n",
       "    <tr>\n",
       "      <th>3</th>\n",
       "      <td>\\nDo you have Weitek's address/phone number?  ...</td>\n",
       "      <td>computer</td>\n",
       "      <td>15</td>\n",
       "      <td>do you have weiteks addressphone number  id li...</td>\n",
       "      <td>[do, you, have, weiteks, addressphone, number,...</td>\n",
       "      <td>[weiteks, addressphone, number, id, like, get,...</td>\n",
       "      <td>[weiteks, addressphone, number, id, like, get,...</td>\n",
       "      <td>weiteks addressphone number id like get inform...</td>\n",
       "    </tr>\n",
       "    <tr>\n",
       "      <th>4</th>\n",
       "      <td>From article &lt;C5owCB.n3p@world.std.com&gt;, by to...</td>\n",
       "      <td>science</td>\n",
       "      <td>72</td>\n",
       "      <td>from article  by tombakerworldstdcom tom a bak...</td>\n",
       "      <td>[from, article, by, tombakerworldstdcom, tom, ...</td>\n",
       "      <td>[article, tombakerworldstdcom, tom, bakermy, u...</td>\n",
       "      <td>[article, tombakerworldstdcom, tom, bakermy, u...</td>\n",
       "      <td>article tombakerworldstdcom tom bakermy unders...</td>\n",
       "    </tr>\n",
       "  </tbody>\n",
       "</table>\n",
       "</div>"
      ],
      "text/plain": [
       "                                                text       label  \\\n",
       "0  I was wondering if anyone out there could enli...  automobile   \n",
       "1  A fair number of brave souls who upgraded thei...    computer   \n",
       "2  well folks, my mac plus finally gave up the gh...    computer   \n",
       "3  \\nDo you have Weitek's address/phone number?  ...    computer   \n",
       "4  From article <C5owCB.n3p@world.std.com>, by to...     science   \n",
       "\n",
       "   Number_of_words                                       cleaned_text  \\\n",
       "0               91  i was wondering if anyone out there could enli...   \n",
       "1               90  a fair number of brave souls who upgraded thei...   \n",
       "2              307  well folks my mac plus finally gave up the gho...   \n",
       "3               15  do you have weiteks addressphone number  id li...   \n",
       "4               72  from article  by tombakerworldstdcom tom a bak...   \n",
       "\n",
       "                                              tokens  \\\n",
       "0  [i, was, wondering, if, anyone, out, there, co...   \n",
       "1  [a, fair, number, of, brave, souls, who, upgra...   \n",
       "2  [well, folks, my, mac, plus, finally, gave, up...   \n",
       "3  [do, you, have, weiteks, addressphone, number,...   \n",
       "4  [from, article, by, tombakerworldstdcom, tom, ...   \n",
       "\n",
       "                               stopwordremove_tokens  \\\n",
       "0  [wondering, anyone, could, enlighten, car, saw...   \n",
       "1  [fair, number, brave, souls, upgraded, si, clo...   \n",
       "2  [well, folks, mac, plus, finally, gave, ghost,...   \n",
       "3  [weiteks, addressphone, number, id, like, get,...   \n",
       "4  [article, tombakerworldstdcom, tom, bakermy, u...   \n",
       "\n",
       "                                     lemmatized_text  \\\n",
       "0  [wondering, anyone, could, enlighten, car, saw...   \n",
       "1  [fair, number, brave, soul, upgraded, si, cloc...   \n",
       "2  [well, folk, mac, plus, finally, gave, ghost, ...   \n",
       "3  [weiteks, addressphone, number, id, like, get,...   \n",
       "4  [article, tombakerworldstdcom, tom, bakermy, u...   \n",
       "\n",
       "                                          final_text  \n",
       "0  wondering anyone could enlighten car sawthe da...  \n",
       "1  fair number brave soul upgraded si clock oscil...  \n",
       "2  well folk mac plus finally gave ghost weekend ...  \n",
       "3  weiteks addressphone number id like get inform...  \n",
       "4  article tombakerworldstdcom tom bakermy unders...  "
      ]
     },
     "execution_count": 17,
     "metadata": {},
     "output_type": "execute_result"
    }
   ],
   "source": [
    "def combine_text(list_of_text):\n",
    "\n",
    "    '''Takes a list of text and combines them into one large chunk of text.'''\n",
    "    \n",
    "    combined_text = ' '.join(list_of_text)\n",
    "    return combined_text\n",
    "\n",
    "df['final_text'] = df['lemmatized_text'].apply(lambda x : combine_text(x))\n",
    "df.head()"
   ]
  },
  {
   "cell_type": "code",
   "execution_count": 18,
   "id": "2f0a543b",
   "metadata": {},
   "outputs": [
    {
     "data": {
      "text/html": [
       "<div>\n",
       "<style scoped>\n",
       "    .dataframe tbody tr th:only-of-type {\n",
       "        vertical-align: middle;\n",
       "    }\n",
       "\n",
       "    .dataframe tbody tr th {\n",
       "        vertical-align: top;\n",
       "    }\n",
       "\n",
       "    .dataframe thead th {\n",
       "        text-align: right;\n",
       "    }\n",
       "</style>\n",
       "<table border=\"1\" class=\"dataframe\">\n",
       "  <thead>\n",
       "    <tr style=\"text-align: right;\">\n",
       "      <th></th>\n",
       "      <th>text</th>\n",
       "      <th>label</th>\n",
       "      <th>Number_of_words</th>\n",
       "      <th>cleaned_text</th>\n",
       "      <th>tokens</th>\n",
       "      <th>stopwordremove_tokens</th>\n",
       "      <th>lemmatized_text</th>\n",
       "      <th>final_text</th>\n",
       "      <th>Final_no_of_words</th>\n",
       "    </tr>\n",
       "  </thead>\n",
       "  <tbody>\n",
       "    <tr>\n",
       "      <th>0</th>\n",
       "      <td>I was wondering if anyone out there could enli...</td>\n",
       "      <td>automobile</td>\n",
       "      <td>91</td>\n",
       "      <td>i was wondering if anyone out there could enli...</td>\n",
       "      <td>[i, was, wondering, if, anyone, out, there, co...</td>\n",
       "      <td>[wondering, anyone, could, enlighten, car, saw...</td>\n",
       "      <td>[wondering, anyone, could, enlighten, car, saw...</td>\n",
       "      <td>wondering anyone could enlighten car sawthe da...</td>\n",
       "      <td>42</td>\n",
       "    </tr>\n",
       "    <tr>\n",
       "      <th>1</th>\n",
       "      <td>A fair number of brave souls who upgraded thei...</td>\n",
       "      <td>computer</td>\n",
       "      <td>90</td>\n",
       "      <td>a fair number of brave souls who upgraded thei...</td>\n",
       "      <td>[a, fair, number, of, brave, souls, who, upgra...</td>\n",
       "      <td>[fair, number, brave, souls, upgraded, si, clo...</td>\n",
       "      <td>[fair, number, brave, soul, upgraded, si, cloc...</td>\n",
       "      <td>fair number brave soul upgraded si clock oscil...</td>\n",
       "      <td>52</td>\n",
       "    </tr>\n",
       "    <tr>\n",
       "      <th>2</th>\n",
       "      <td>well folks, my mac plus finally gave up the gh...</td>\n",
       "      <td>computer</td>\n",
       "      <td>307</td>\n",
       "      <td>well folks my mac plus finally gave up the gho...</td>\n",
       "      <td>[well, folks, my, mac, plus, finally, gave, up...</td>\n",
       "      <td>[well, folks, mac, plus, finally, gave, ghost,...</td>\n",
       "      <td>[well, folk, mac, plus, finally, gave, ghost, ...</td>\n",
       "      <td>well folk mac plus finally gave ghost weekend ...</td>\n",
       "      <td>149</td>\n",
       "    </tr>\n",
       "    <tr>\n",
       "      <th>3</th>\n",
       "      <td>\\nDo you have Weitek's address/phone number?  ...</td>\n",
       "      <td>computer</td>\n",
       "      <td>15</td>\n",
       "      <td>do you have weiteks addressphone number  id li...</td>\n",
       "      <td>[do, you, have, weiteks, addressphone, number,...</td>\n",
       "      <td>[weiteks, addressphone, number, id, like, get,...</td>\n",
       "      <td>[weiteks, addressphone, number, id, like, get,...</td>\n",
       "      <td>weiteks addressphone number id like get inform...</td>\n",
       "      <td>8</td>\n",
       "    </tr>\n",
       "    <tr>\n",
       "      <th>4</th>\n",
       "      <td>From article &lt;C5owCB.n3p@world.std.com&gt;, by to...</td>\n",
       "      <td>science</td>\n",
       "      <td>72</td>\n",
       "      <td>from article  by tombakerworldstdcom tom a bak...</td>\n",
       "      <td>[from, article, by, tombakerworldstdcom, tom, ...</td>\n",
       "      <td>[article, tombakerworldstdcom, tom, bakermy, u...</td>\n",
       "      <td>[article, tombakerworldstdcom, tom, bakermy, u...</td>\n",
       "      <td>article tombakerworldstdcom tom bakermy unders...</td>\n",
       "      <td>35</td>\n",
       "    </tr>\n",
       "  </tbody>\n",
       "</table>\n",
       "</div>"
      ],
      "text/plain": [
       "                                                text       label  \\\n",
       "0  I was wondering if anyone out there could enli...  automobile   \n",
       "1  A fair number of brave souls who upgraded thei...    computer   \n",
       "2  well folks, my mac plus finally gave up the gh...    computer   \n",
       "3  \\nDo you have Weitek's address/phone number?  ...    computer   \n",
       "4  From article <C5owCB.n3p@world.std.com>, by to...     science   \n",
       "\n",
       "   Number_of_words                                       cleaned_text  \\\n",
       "0               91  i was wondering if anyone out there could enli...   \n",
       "1               90  a fair number of brave souls who upgraded thei...   \n",
       "2              307  well folks my mac plus finally gave up the gho...   \n",
       "3               15  do you have weiteks addressphone number  id li...   \n",
       "4               72  from article  by tombakerworldstdcom tom a bak...   \n",
       "\n",
       "                                              tokens  \\\n",
       "0  [i, was, wondering, if, anyone, out, there, co...   \n",
       "1  [a, fair, number, of, brave, souls, who, upgra...   \n",
       "2  [well, folks, my, mac, plus, finally, gave, up...   \n",
       "3  [do, you, have, weiteks, addressphone, number,...   \n",
       "4  [from, article, by, tombakerworldstdcom, tom, ...   \n",
       "\n",
       "                               stopwordremove_tokens  \\\n",
       "0  [wondering, anyone, could, enlighten, car, saw...   \n",
       "1  [fair, number, brave, souls, upgraded, si, clo...   \n",
       "2  [well, folks, mac, plus, finally, gave, ghost,...   \n",
       "3  [weiteks, addressphone, number, id, like, get,...   \n",
       "4  [article, tombakerworldstdcom, tom, bakermy, u...   \n",
       "\n",
       "                                     lemmatized_text  \\\n",
       "0  [wondering, anyone, could, enlighten, car, saw...   \n",
       "1  [fair, number, brave, soul, upgraded, si, cloc...   \n",
       "2  [well, folk, mac, plus, finally, gave, ghost, ...   \n",
       "3  [weiteks, addressphone, number, id, like, get,...   \n",
       "4  [article, tombakerworldstdcom, tom, bakermy, u...   \n",
       "\n",
       "                                          final_text  Final_no_of_words  \n",
       "0  wondering anyone could enlighten car sawthe da...                 42  \n",
       "1  fair number brave soul upgraded si clock oscil...                 52  \n",
       "2  well folk mac plus finally gave ghost weekend ...                149  \n",
       "3  weiteks addressphone number id like get inform...                  8  \n",
       "4  article tombakerworldstdcom tom bakermy unders...                 35  "
      ]
     },
     "execution_count": 18,
     "metadata": {},
     "output_type": "execute_result"
    }
   ],
   "source": [
    "df['Final_no_of_words'] = df['final_text'].apply(lambda x:len(str(x).split()))\n",
    "df.head()"
   ]
  },
  {
   "cell_type": "code",
   "execution_count": 20,
   "id": "52f3a2d8",
   "metadata": {},
   "outputs": [],
   "source": [
    "# Export pre-prossed data to csv:\n",
    "# df.to_csv(r'C:\\Data Sciences\\Data\\outputs\\text_preprossed_data.csv', index = False, encoding = 'utf-8')"
   ]
  },
  {
   "cell_type": "code",
   "execution_count": 21,
   "id": "372de0ce",
   "metadata": {},
   "outputs": [
    {
     "data": {
      "text/plain": [
       "count    11014.000000\n",
       "mean        93.284547\n",
       "std        269.498465\n",
       "min          0.000000\n",
       "25%         21.000000\n",
       "50%         42.000000\n",
       "75%         83.000000\n",
       "max       6433.000000\n",
       "Name: Final_no_of_words, dtype: float64"
      ]
     },
     "execution_count": 21,
     "metadata": {},
     "output_type": "execute_result"
    }
   ],
   "source": [
    "# basic stats\n",
    "df['Final_no_of_words'].describe()"
   ]
  },
  {
   "cell_type": "code",
   "execution_count": 22,
   "id": "11e44e92",
   "metadata": {},
   "outputs": [
    {
     "name": "stdout",
     "output_type": "stream",
     "text": [
      "20\n"
     ]
    }
   ],
   "source": [
    "# number of rows with text lenth = 0\n",
    "print(len(df[df['Final_no_of_words']==0]))\n",
    "\n",
    "# drop those rows\n",
    "df.drop(df[df['Final_no_of_words']==0].index,inplace=True)"
   ]
  },
  {
   "cell_type": "markdown",
   "id": "01d59b1e",
   "metadata": {},
   "source": [
    "## LabelEncode the \"Label\" Feature and Assing to New Feature \"Target\"\n",
    "- This method classifies the text into a binary format for processing into a ML model:"
   ]
  },
  {
   "cell_type": "code",
   "execution_count": 23,
   "id": "a144a73d",
   "metadata": {},
   "outputs": [
    {
     "data": {
      "text/plain": [
       "array([1, 2, 7, 4, 3, 5, 6, 0, 8])"
      ]
     },
     "execution_count": 23,
     "metadata": {},
     "output_type": "execute_result"
    }
   ],
   "source": [
    "# label_encoder object knows how to understand word labels.\n",
    "label_encoder = preprocessing.LabelEncoder()\n",
    "  \n",
    "# Encode labels in column 'species'.\n",
    "df['target']= label_encoder.fit_transform(df['label'])\n",
    "  \n",
    "df['target'].unique()"
   ]
  },
  {
   "cell_type": "code",
   "execution_count": 24,
   "id": "bec1c865",
   "metadata": {},
   "outputs": [
    {
     "data": {
      "text/html": [
       "<div>\n",
       "<style scoped>\n",
       "    .dataframe tbody tr th:only-of-type {\n",
       "        vertical-align: middle;\n",
       "    }\n",
       "\n",
       "    .dataframe tbody tr th {\n",
       "        vertical-align: top;\n",
       "    }\n",
       "\n",
       "    .dataframe thead th {\n",
       "        text-align: right;\n",
       "    }\n",
       "</style>\n",
       "<table border=\"1\" class=\"dataframe\">\n",
       "  <thead>\n",
       "    <tr style=\"text-align: right;\">\n",
       "      <th></th>\n",
       "      <th>text</th>\n",
       "      <th>label</th>\n",
       "      <th>Number_of_words</th>\n",
       "      <th>cleaned_text</th>\n",
       "      <th>tokens</th>\n",
       "      <th>stopwordremove_tokens</th>\n",
       "      <th>lemmatized_text</th>\n",
       "      <th>final_text</th>\n",
       "      <th>Final_no_of_words</th>\n",
       "      <th>target</th>\n",
       "    </tr>\n",
       "  </thead>\n",
       "  <tbody>\n",
       "    <tr>\n",
       "      <th>0</th>\n",
       "      <td>I was wondering if anyone out there could enli...</td>\n",
       "      <td>automobile</td>\n",
       "      <td>91</td>\n",
       "      <td>i was wondering if anyone out there could enli...</td>\n",
       "      <td>[i, was, wondering, if, anyone, out, there, co...</td>\n",
       "      <td>[wondering, anyone, could, enlighten, car, saw...</td>\n",
       "      <td>[wondering, anyone, could, enlighten, car, saw...</td>\n",
       "      <td>wondering anyone could enlighten car sawthe da...</td>\n",
       "      <td>42</td>\n",
       "      <td>1</td>\n",
       "    </tr>\n",
       "    <tr>\n",
       "      <th>1</th>\n",
       "      <td>A fair number of brave souls who upgraded thei...</td>\n",
       "      <td>computer</td>\n",
       "      <td>90</td>\n",
       "      <td>a fair number of brave souls who upgraded thei...</td>\n",
       "      <td>[a, fair, number, of, brave, souls, who, upgra...</td>\n",
       "      <td>[fair, number, brave, souls, upgraded, si, clo...</td>\n",
       "      <td>[fair, number, brave, soul, upgraded, si, cloc...</td>\n",
       "      <td>fair number brave soul upgraded si clock oscil...</td>\n",
       "      <td>52</td>\n",
       "      <td>2</td>\n",
       "    </tr>\n",
       "    <tr>\n",
       "      <th>2</th>\n",
       "      <td>well folks, my mac plus finally gave up the gh...</td>\n",
       "      <td>computer</td>\n",
       "      <td>307</td>\n",
       "      <td>well folks my mac plus finally gave up the gho...</td>\n",
       "      <td>[well, folks, my, mac, plus, finally, gave, up...</td>\n",
       "      <td>[well, folks, mac, plus, finally, gave, ghost,...</td>\n",
       "      <td>[well, folk, mac, plus, finally, gave, ghost, ...</td>\n",
       "      <td>well folk mac plus finally gave ghost weekend ...</td>\n",
       "      <td>149</td>\n",
       "      <td>2</td>\n",
       "    </tr>\n",
       "    <tr>\n",
       "      <th>3</th>\n",
       "      <td>\\nDo you have Weitek's address/phone number?  ...</td>\n",
       "      <td>computer</td>\n",
       "      <td>15</td>\n",
       "      <td>do you have weiteks addressphone number  id li...</td>\n",
       "      <td>[do, you, have, weiteks, addressphone, number,...</td>\n",
       "      <td>[weiteks, addressphone, number, id, like, get,...</td>\n",
       "      <td>[weiteks, addressphone, number, id, like, get,...</td>\n",
       "      <td>weiteks addressphone number id like get inform...</td>\n",
       "      <td>8</td>\n",
       "      <td>2</td>\n",
       "    </tr>\n",
       "    <tr>\n",
       "      <th>4</th>\n",
       "      <td>From article &lt;C5owCB.n3p@world.std.com&gt;, by to...</td>\n",
       "      <td>science</td>\n",
       "      <td>72</td>\n",
       "      <td>from article  by tombakerworldstdcom tom a bak...</td>\n",
       "      <td>[from, article, by, tombakerworldstdcom, tom, ...</td>\n",
       "      <td>[article, tombakerworldstdcom, tom, bakermy, u...</td>\n",
       "      <td>[article, tombakerworldstdcom, tom, bakermy, u...</td>\n",
       "      <td>article tombakerworldstdcom tom bakermy unders...</td>\n",
       "      <td>35</td>\n",
       "      <td>7</td>\n",
       "    </tr>\n",
       "  </tbody>\n",
       "</table>\n",
       "</div>"
      ],
      "text/plain": [
       "                                                text       label  \\\n",
       "0  I was wondering if anyone out there could enli...  automobile   \n",
       "1  A fair number of brave souls who upgraded thei...    computer   \n",
       "2  well folks, my mac plus finally gave up the gh...    computer   \n",
       "3  \\nDo you have Weitek's address/phone number?  ...    computer   \n",
       "4  From article <C5owCB.n3p@world.std.com>, by to...     science   \n",
       "\n",
       "   Number_of_words                                       cleaned_text  \\\n",
       "0               91  i was wondering if anyone out there could enli...   \n",
       "1               90  a fair number of brave souls who upgraded thei...   \n",
       "2              307  well folks my mac plus finally gave up the gho...   \n",
       "3               15  do you have weiteks addressphone number  id li...   \n",
       "4               72  from article  by tombakerworldstdcom tom a bak...   \n",
       "\n",
       "                                              tokens  \\\n",
       "0  [i, was, wondering, if, anyone, out, there, co...   \n",
       "1  [a, fair, number, of, brave, souls, who, upgra...   \n",
       "2  [well, folks, my, mac, plus, finally, gave, up...   \n",
       "3  [do, you, have, weiteks, addressphone, number,...   \n",
       "4  [from, article, by, tombakerworldstdcom, tom, ...   \n",
       "\n",
       "                               stopwordremove_tokens  \\\n",
       "0  [wondering, anyone, could, enlighten, car, saw...   \n",
       "1  [fair, number, brave, souls, upgraded, si, clo...   \n",
       "2  [well, folks, mac, plus, finally, gave, ghost,...   \n",
       "3  [weiteks, addressphone, number, id, like, get,...   \n",
       "4  [article, tombakerworldstdcom, tom, bakermy, u...   \n",
       "\n",
       "                                     lemmatized_text  \\\n",
       "0  [wondering, anyone, could, enlighten, car, saw...   \n",
       "1  [fair, number, brave, soul, upgraded, si, cloc...   \n",
       "2  [well, folk, mac, plus, finally, gave, ghost, ...   \n",
       "3  [weiteks, addressphone, number, id, like, get,...   \n",
       "4  [article, tombakerworldstdcom, tom, bakermy, u...   \n",
       "\n",
       "                                          final_text  Final_no_of_words  \\\n",
       "0  wondering anyone could enlighten car sawthe da...                 42   \n",
       "1  fair number brave soul upgraded si clock oscil...                 52   \n",
       "2  well folk mac plus finally gave ghost weekend ...                149   \n",
       "3  weiteks addressphone number id like get inform...                  8   \n",
       "4  article tombakerworldstdcom tom bakermy unders...                 35   \n",
       "\n",
       "   target  \n",
       "0       1  \n",
       "1       2  \n",
       "2       2  \n",
       "3       2  \n",
       "4       7  "
      ]
     },
     "execution_count": 24,
     "metadata": {},
     "output_type": "execute_result"
    }
   ],
   "source": [
    "df.head()"
   ]
  },
  {
   "cell_type": "markdown",
   "id": "33c86553",
   "metadata": {},
   "source": [
    "## Assign X (Dependant) and y (Independant) Variables"
   ]
  },
  {
   "cell_type": "code",
   "execution_count": 25,
   "id": "09935ff5",
   "metadata": {},
   "outputs": [
    {
     "data": {
      "text/plain": [
       "((10994,), (10994,))"
      ]
     },
     "execution_count": 25,
     "metadata": {},
     "output_type": "execute_result"
    }
   ],
   "source": [
    "# dependent and independent variable\n",
    "X = df['final_text']\n",
    "y = df['target']\n",
    "\n",
    "# View shape of variables\n",
    "X.shape, y.shape"
   ]
  },
  {
   "cell_type": "markdown",
   "id": "818f0bbf",
   "metadata": {},
   "source": [
    "## CountVectorize"
   ]
  },
  {
   "cell_type": "code",
   "execution_count": 26,
   "id": "f8694bba",
   "metadata": {},
   "outputs": [
    {
     "name": "stdout",
     "output_type": "stream",
     "text": [
      "[[0 0 0 ... 0 0 0]]\n"
     ]
    }
   ],
   "source": [
    "count_vectorizer = CountVectorizer()\n",
    "count_vector = count_vectorizer.fit_transform(X)\n",
    "print(count_vector[0].todense())"
   ]
  },
  {
   "cell_type": "markdown",
   "id": "8ef86ae9",
   "metadata": {},
   "source": [
    "## Tf-Idf (Term-Frequency-Inverse Document Freguency)"
   ]
  },
  {
   "cell_type": "code",
   "execution_count": 27,
   "id": "9a37a277",
   "metadata": {},
   "outputs": [
    {
     "name": "stdout",
     "output_type": "stream",
     "text": [
      "[[0. 0. 0. ... 0. 0. 0.]]\n"
     ]
    }
   ],
   "source": [
    "tfidf_vectorizer = TfidfVectorizer(min_df = 2,max_df = 0.5,ngram_range = (1,2))\n",
    "tfidf = tfidf_vectorizer.fit_transform(X)\n",
    "print(tfidf[0].todense())"
   ]
  },
  {
   "cell_type": "markdown",
   "id": "673569e4",
   "metadata": {},
   "source": [
    "## SMOTE the dataset for minimizing oversampling:"
   ]
  },
  {
   "cell_type": "markdown",
   "id": "b8884e4a",
   "metadata": {},
   "source": [
    "### SMOTE the CountVectorized data"
   ]
  },
  {
   "cell_type": "code",
   "execution_count": 33,
   "id": "e3569ab3",
   "metadata": {},
   "outputs": [
    {
     "name": "stderr",
     "output_type": "stream",
     "text": [
      "C:\\Users\\proto\\AppData\\Local\\Programs\\Python\\Python39\\lib\\site-packages\\seaborn\\_decorators.py:36: FutureWarning: Pass the following variable as a keyword arg: x. From version 0.12, the only valid positional argument will be `data`, and passing other arguments without an explicit keyword will result in an error or misinterpretation.\n",
      "  warnings.warn(\n"
     ]
    },
    {
     "data": {
      "text/plain": [
       "<AxesSubplot:xlabel='target', ylabel='count'>"
      ]
     },
     "execution_count": 33,
     "metadata": {},
     "output_type": "execute_result"
    },
    {
     "data": {
      "image/png": "[encoded data removed]",
      "text/plain": [
       "<Figure size 432x288 with 1 Axes>"
      ]
     },
     "metadata": {},
     "output_type": "display_data"
    }
   ],
   "source": [
    "# count vector\n",
    "smote = SMOTE(random_state = 402)\n",
    "X_smote, Y_smote = smote.fit_resample(count_vector,y)\n",
    "\n",
    "\n",
    "sns.countplot(Y_smote)"
   ]
  },
  {
   "cell_type": "markdown",
   "id": "5dbbae01",
   "metadata": {},
   "source": [
    "### SMOTE the Tf-Idf data"
   ]
  },
  {
   "cell_type": "code",
   "execution_count": 34,
   "id": "a951d556",
   "metadata": {},
   "outputs": [
    {
     "name": "stderr",
     "output_type": "stream",
     "text": [
      "C:\\Users\\proto\\AppData\\Local\\Programs\\Python\\Python39\\lib\\site-packages\\seaborn\\_decorators.py:36: FutureWarning: Pass the following variable as a keyword arg: x. From version 0.12, the only valid positional argument will be `data`, and passing other arguments without an explicit keyword will result in an error or misinterpretation.\n",
      "  warnings.warn(\n"
     ]
    },
    {
     "data": {
      "text/plain": [
       "<AxesSubplot:xlabel='target', ylabel='count'>"
      ]
     },
     "execution_count": 34,
     "metadata": {},
     "output_type": "execute_result"
    },
    {
     "data": {
      "image/png": "[encoded data removed]",
      "text/plain": [
       "<Figure size 432x288 with 1 Axes>"
      ]
     },
     "metadata": {},
     "output_type": "display_data"
    }
   ],
   "source": [
    "# tfidf\n",
    "smote = SMOTE(random_state = 402)\n",
    "X_smote_tfidf, Y_smote_tfidf = smote.fit_resample(tfidf,y)\n",
    "\n",
    "sns.countplot(Y_smote_tfidf)"
   ]
  },
  {
   "cell_type": "markdown",
   "id": "90a89ec7",
   "metadata": {},
   "source": [
    "## Split Processed Data into Train/Test\n",
    "- Will split the train/test into the various SMOTE data variables"
   ]
  },
  {
   "cell_type": "code",
   "execution_count": 35,
   "id": "4d5de629",
   "metadata": {},
   "outputs": [],
   "source": [
    "# train-test split countvector\n",
    "X_train, X_test, y_train, y_test = train_test_split(X_smote, Y_smote, test_size = 0.20, random_state = 0)\n",
    "\n",
    "# train-test split tfidf\n",
    "X_train_tfidf, X_test_tfidf, y_train_tfidf, y_test_tfidf = train_test_split(X_smote_tfidf, Y_smote_tfidf , test_size = 0.20, random_state = 0)"
   ]
  },
  {
   "cell_type": "code",
   "execution_count": 36,
   "id": "f111c090",
   "metadata": {},
   "outputs": [],
   "source": [
    "training_time_container = {'linear_svm_tfidf':0,'linear_svm':0,'mnb_naive_bayes_tfidf':0,\n",
    "                         'mnb_naive_bayes':0,'random_forest_tfidf':0,'random_forest':0,\n",
    "                          'logistic_reg':0,'logistic_reg_tfidf':0}\n",
    "\n",
    "prediction_time_container = {'linear_svm_tfidf':0,'linear_svm':0,'mnb_naive_bayes_tfidf':0,\n",
    "                         'mnb_naive_bayes':0,'random_forest_tfidf':0,'random_forest':0,\n",
    "                            'logistic_reg':0,'logistic_reg_tfidf':0}\n",
    "                            \n",
    "accuracy_container = {'linear_svm_tfidf':0,'linear_svm':0,'mnb_naive_bayes_tfidf':0,\n",
    "                         'mnb_naive_bayes':0,'random_forest_tfidf':0,'random_forest':0,\n",
    "                     'logistic_reg':0,'logistic_reg_tfidf':0}"
   ]
  },
  {
   "cell_type": "markdown",
   "id": "54158fb7",
   "metadata": {},
   "source": [
    "## Logistic Regression Model on Tf-Idf"
   ]
  },
  {
   "cell_type": "code",
   "execution_count": 37,
   "id": "958becf6",
   "metadata": {},
   "outputs": [
    {
     "name": "stdout",
     "output_type": "stream",
     "text": [
      "Training Accuracy :  0.219733773804897\n",
      "Testing Accuracy:  0.20419661938993589\n",
      "Training Time:  2.992072343826294\n",
      "Prediction Time:  0.0321047306060791\n",
      "[[ 69   0 422   0   3  95   0   0   0]\n",
      " [  0  11 560   0   0   0   0   0   0]\n",
      " [  0   0 533   0   0   0   0   0   0]\n",
      " [  0   0 456 113   0   0   0   0   0]\n",
      " [  0   0 466   0  89   1   0   0   0]\n",
      " [  0   0 325   0   2 233   0   0   0]\n",
      " [  0   0 589   0   0   0   2   0   0]\n",
      " [  0   0 577   0   3   0   0   1   0]\n",
      " [  0   0 597   0   0   0   0   0   0]]\n"
     ]
    },
    {
     "name": "stderr",
     "output_type": "stream",
     "text": [
      "C:\\Users\\proto\\AppData\\Local\\Programs\\Python\\Python39\\lib\\site-packages\\sklearn\\linear_model\\_logistic.py:763: ConvergenceWarning: lbfgs failed to converge (status=1):\n",
      "STOP: TOTAL NO. of ITERATIONS REACHED LIMIT.\n",
      "\n",
      "Increase the number of iterations (max_iter) or scale the data as shown in:\n",
      "    https://scikit-learn.org/stable/modules/preprocessing.html\n",
      "Please also refer to the documentation for alternative solver options:\n",
      "    https://scikit-learn.org/stable/modules/linear_model.html#logistic-regression\n",
      "  n_iter_i = _check_optimize_result(\n"
     ]
    }
   ],
   "source": [
    "from time import time\n",
    "\n",
    "# on countvector\n",
    "lg = LogisticRegression(C = 1.0, max_iter = 1)\n",
    "#Fitting the model \n",
    "t0 = time()\n",
    "lg.fit(X_train_tfidf,y_train_tfidf)\n",
    "training_time_container['logistic_reg']=time()-t0\n",
    "\n",
    "\n",
    "# Predicting the Test set results\n",
    "t0 = time()\n",
    "y_pred_lg = lg.predict(X_test_tfidf)\n",
    "prediction_time_container['logistic_reg']=time()-t0\n",
    "\n",
    "lg_test_accuracy =  accuracy_score(y_test_tfidf,y_pred_lg)\n",
    "accuracy_container['logistic_reg'] = lg_test_accuracy\n",
    "\n",
    "print('Training Accuracy : ', accuracy_score(y_train_tfidf,lg.predict(X_train_tfidf)))\n",
    "print('Testing Accuracy: ',lg_test_accuracy)\n",
    "print(\"Training Time: \",training_time_container['logistic_reg'])\n",
    "print(\"Prediction Time: \",prediction_time_container['logistic_reg'])\n",
    "print(confusion_matrix(y_test_tfidf,y_pred_lg))"
   ]
  },
  {
   "cell_type": "code",
   "execution_count": null,
   "id": "fe1283ab",
   "metadata": {},
   "outputs": [],
   "source": []
  },
  {
   "cell_type": "markdown",
   "id": "590d2303",
   "metadata": {},
   "source": [
    "## Neural Network"
   ]
  },
  {
   "cell_type": "code",
   "execution_count": null,
   "id": "46101e63",
   "metadata": {},
   "outputs": [],
   "source": [
    "# https://towardsdatascience.com/multi-class-text-classification-with-lstm-using-tensorflow-2-0-d88627c10a35"
   ]
  }
 ],
 "metadata": {
  "kernelspec": {
   "display_name": "Python 3",
   "language": "python",
   "name": "python3"
  },
  "language_info": {
   "codemirror_mode": {
    "name": "ipython",
    "version": 3
   },
   "file_extension": ".py",
   "mimetype": "text/x-python",
   "name": "python",
   "nbconvert_exporter": "python",
   "pygments_lexer": "ipython3",
   "version": "3.9.9"
  }
 },
 "nbformat": 4,
 "nbformat_minor": 5
}
