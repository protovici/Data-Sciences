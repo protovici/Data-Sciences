{
 "cells": [
  {
   "cell_type": "markdown",
   "metadata": {},
   "source": [
    "## Text Classification with Natural Language Processing Methods and Machine Learning Examples\n",
    "<a class=\"anchor\" id=\"toc\"></a>"
   ]
  },
  {
   "cell_type": "markdown",
   "metadata": {},
   "source": [
    "### Table of Contents:\n",
    "\n",
    "* [Read & Pre-Processing](#first)\n",
    "* [Classification | Machine Learning | Classical | Research & Development](#second)\n",
    "* [Classification Machine Learning Models](#third)"
   ]
  },
  {
   "cell_type": "markdown",
   "metadata": {},
   "source": [
    "#### Importing of Libraries:"
   ]
  },
  {
   "cell_type": "code",
   "execution_count": 32,
   "metadata": {},
   "outputs": [
    {
     "name": "stderr",
     "output_type": "stream",
     "text": [
      "[nltk_data] Downloading package stopwords to\n",
      "[nltk_data]     C:\\Users\\p20226\\AppData\\Roaming\\nltk_data...\n",
      "[nltk_data]   Package stopwords is already up-to-date!\n",
      "[nltk_data] Downloading package wordnet to\n",
      "[nltk_data]     C:\\Users\\p20226\\AppData\\Roaming\\nltk_data...\n",
      "[nltk_data]   Package wordnet is already up-to-date!\n",
      "[nltk_data] Downloading package omw-1.4 to\n",
      "[nltk_data]     C:\\Users\\p20226\\AppData\\Roaming\\nltk_data...\n",
      "[nltk_data]   Package omw-1.4 is already up-to-date!\n",
      "tq() ### Library Importing Is Complete. ###: 100%|██████████| 20/20 [00:10<00:00,  1.99it/s]"
     ]
    },
    {
     "name": "stdout",
     "output_type": "stream",
     "text": [
      "#####  IMPORTS COMPLETE  #####\n"
     ]
    },
    {
     "name": "stderr",
     "output_type": "stream",
     "text": [
      "\n"
     ]
    }
   ],
   "source": [
    "import os\n",
    "import pandas as pd\n",
    "import numpy as np\n",
    "import random\n",
    "import matplotlib.pyplot as plt\n",
    "import seaborn as sns\n",
    "import plotly.graph_objects as go\n",
    "import re\n",
    "import string\n",
    "import nltk\n",
    "from nltk.corpus import stopwords\n",
    "nltk.download('stopwords')\n",
    "nltk.download('wordnet')\n",
    "nltk.download('omw-1.4')\n",
    "from nltk.stem import WordNetLemmatizer\n",
    "from sklearn.datasets import fetch_20newsgroups\n",
    "from sklearn.model_selection import train_test_split\n",
    "from sklearn.feature_extraction.text import CountVectorizer,TfidfVectorizer\n",
    "from sklearn.naive_bayes import MultinomialNB\n",
    "from sklearn import svm\n",
    "from time import time\n",
    "from sklearn import linear_model\n",
    "from sklearn import preprocessing\n",
    "from sklearn.model_selection import StratifiedKFold\n",
    "from imblearn.over_sampling import SMOTE\n",
    "from sklearn.ensemble import RandomForestClassifier\n",
    "from sklearn.linear_model import LogisticRegression\n",
    "from sklearn import model_selection\n",
    "from sklearn.metrics import accuracy_score, precision_score, recall_score, plot_confusion_matrix, confusion_matrix, f1_score\n",
    "from statistics import mean\n",
    "import pickle\n",
    "from sklearn.metrics import classification_report\n",
    "from tensorflow import keras\n",
    "from tensorflow.keras.models import load_model\n",
    "import torch\n",
    "from tqdm.notebook import tqdm\n",
    "from transformers import BertTokenizer\n",
    "from torch.utils.data import TensorDataset\n",
    "from transformers import BertForSequenceClassification\n",
    "from torch.utils.data import DataLoader, RandomSampler, SequentialSampler\n",
    "from transformers import AdamW, get_linear_schedule_with_warmup\n",
    "from tensorflow.keras import layers\n",
    "from tensorflow.keras import losses\n",
    "from tensorflow.keras import utils\n",
    "from tensorflow.keras.layers.experimental.preprocessing import TextVectorization\n",
    "from tensorflow.keras.callbacks import EarlyStopping\n",
    "from tensorflow.keras.preprocessing.text import Tokenizer\n",
    "from tensorflow.keras.preprocessing.sequence import pad_sequences\n",
    "from tensorflow.keras.layers import Dense, Embedding, LSTM, SpatialDropout1D, Bidirectional, Dropout\n",
    "import warnings\n",
    "warnings.filterwarnings('ignore')\n",
    "from tqdm import tqdm as tq\n",
    "import time\n",
    "for i in tq(range(20), desc = 'tq() ### Library Importing Is Complete. ###'):\n",
    "    time.sleep(0.5)\n",
    "\n",
    "print('#####  IMPORTS COMPLETE  #####')"
   ]
  },
  {
   "cell_type": "markdown",
   "metadata": {},
   "source": [
    "#### Data Pre-Processing\n",
    "<a class=\"anchor\" id=\"first\"></a>\n",
    "* [Table of Contents](#toc)"
   ]
  },
  {
   "cell_type": "code",
   "execution_count": 33,
   "metadata": {},
   "outputs": [
    {
     "name": "stdout",
     "output_type": "stream",
     "text": [
      "#####   DATA CLEASNING AND FEATURE ENGINEERING IS COMPLETE  #####\n"
     ]
    }
   ],
   "source": [
    "dataset = fetch_20newsgroups(subset ='train', \n",
    "                             remove=('headers', 'footers', 'quotes'), \n",
    "                             shuffle=True, \n",
    "                             random_state=42)\n",
    "\n",
    "df = pd.DataFrame()\n",
    "df['text'] = dataset.data\n",
    "df['source'] = dataset.target\n",
    "\n",
    "label = []\n",
    "\n",
    "for i in df['source']:\n",
    "    label.append(dataset.target_names[i])\n",
    "\n",
    "df['label']=label\n",
    "\n",
    "# Remove source feature as label will be encoded for dependant:\n",
    "df.drop(['source'], axis = 1, inplace = True)\n",
    "\n",
    "def label_targets(a):\n",
    "    if a['label'] == 'talk.politics.misc' or a['label'] == 'talk.politics.guns' or a['label'] == 'talk.politics.mideast':\n",
    "        return 'politics'\n",
    "\n",
    "    elif a['label'] == 'rec.sport.hockey' or a['label'] == 'rec.sport.baseball':\n",
    "        return 'sport'\n",
    "\n",
    "    elif a['label'] == 'soc.religion.christian' or a['label'] == 'talk.religion.misc':\n",
    "        return 'religion'\n",
    "\n",
    "    elif a['label'] == 'comp.windows.x' or a['label'] == 'comp.sys.ibm.pc.hardware' or a['label'] == 'comp.os.ms-windows.misc' or a['label'] == 'comp.graphics' or a['label'] == 'comp.sys.mac.hardware':\n",
    "        return 'computer'\n",
    "\n",
    "    elif a['label'] == 'misc.forsale':\n",
    "        return 'sales'\n",
    "\n",
    "    elif a['label'] == 'rec.autos' or a['label'] == 'rec.motorcycles':\n",
    "        return 'automobile'\n",
    "\n",
    "    elif a['label'] == 'sci.crypt' or a['label'] == 'sci.electronics' or a['label'] == 'sci.space':\n",
    "        return 'science'\n",
    "\n",
    "    elif a['label'] == 'sci.med':\n",
    "        return 'medicine'\n",
    "\n",
    "    else:\n",
    "        return 'ERROR'\n",
    "\n",
    "df['label'] = df.apply(label_targets, axis = 1)\n",
    "\n",
    "# Apply word count on text data:\n",
    "df['Number_of_words'] = df['text'].apply(lambda x:len(str(x).split()))\n",
    "\n",
    "# Drop all words that equal 0:\n",
    "no_text = df[df['Number_of_words']==0]\n",
    "\n",
    "# drop these rows\n",
    "df.drop(no_text.index,inplace=True)\n",
    "\n",
    "# cleaning the text:\n",
    "def clean_text(text):\n",
    "\n",
    "    '''Make text lowercase, remove text in square brackets,remove links,remove punctuation\n",
    "    and remove words containing numbers.'''\n",
    "    \n",
    "    text = text.lower()\n",
    "    text = re.sub('\\[.*?\\]', '', text)\n",
    "    text = re.sub('https?://\\S+|www\\.\\S+', '', text)\n",
    "    text = re.sub('<.*?>+', '', text)\n",
    "    text = re.sub('[%s]' % re.escape(string.punctuation), '', text)\n",
    "    text = re.sub('\\n', '', text)\n",
    "    text = re.sub('\\w*\\d\\w*', '', text)\n",
    "    return text\n",
    "\n",
    "# Applying the cleaning function to  datasets\n",
    "df['cleaned_text'] = df['text'].apply(lambda x: clean_text(x))\n",
    "\n",
    "# label_encoder object knows how to understand word labels.\n",
    "label_encoder = preprocessing.LabelEncoder()\n",
    "df['target'] = label_encoder.fit_transform(df['label'])\n",
    "\n",
    "# Dataframe and NLP processing for ML models:\n",
    "# Copy dataframe for ML model R&D:\n",
    "df_ml = df.copy()\n",
    "\n",
    "# Tokenize Text:\n",
    "tokenizer = nltk.tokenize.RegexpTokenizer(r'\\w+')\n",
    "\n",
    "# Removing Stopwords:\n",
    "def remove_stopwords(text):\n",
    "    words = [w for w in text if w not in stopwords.words('english')]\n",
    "    return words\n",
    "\n",
    "# Lemmatization:\n",
    "lem = WordNetLemmatizer()\n",
    "def lem_word(x):\n",
    "    return [lem.lemmatize(w) for w in x]\n",
    "\n",
    "def combine_text(list_of_text):\n",
    "\n",
    "    '''Takes a list of text and combines them into one large chunk of text.'''\n",
    "    \n",
    "    combined_text = ' '.join(list_of_text)\n",
    "    return combined_text\n",
    "\n",
    "# Apply NLP functions to dataframe:\n",
    "df_ml['tokens'] = df_ml['cleaned_text'].apply(lambda x:tokenizer.tokenize(x))\n",
    "df_ml['stopwordremove_tokens'] = df_ml['tokens'].apply(lambda x : remove_stopwords(x))\n",
    "df_ml['lemmatized_text'] = df_ml['stopwordremove_tokens'].apply(lem_word)    \n",
    "df_ml['final_text'] = df_ml['lemmatized_text'].apply(lambda x : combine_text(x))\n",
    "\n",
    "# Drop features not needed:\n",
    "df_ml.drop(['cleaned_text','tokens','stopwordremove_tokens','lemmatized_text'], axis=1, inplace=True)\n",
    "df_ml.reindex(columns = ['label','final_text','target'])\n",
    "\n",
    "print('#####   DATA CLEASNING AND FEATURE ENGINEERING IS COMPLETE  #####')"
   ]
  },
  {
   "cell_type": "code",
   "execution_count": 34,
   "metadata": {},
   "outputs": [
    {
     "data": {
      "text/html": [
       "<div>\n",
       "<style scoped>\n",
       "    .dataframe tbody tr th:only-of-type {\n",
       "        vertical-align: middle;\n",
       "    }\n",
       "\n",
       "    .dataframe tbody tr th {\n",
       "        vertical-align: top;\n",
       "    }\n",
       "\n",
       "    .dataframe thead th {\n",
       "        text-align: right;\n",
       "    }\n",
       "</style>\n",
       "<table border=\"1\" class=\"dataframe\">\n",
       "  <thead>\n",
       "    <tr style=\"text-align: right;\">\n",
       "      <th></th>\n",
       "      <th>text</th>\n",
       "      <th>label</th>\n",
       "      <th>Number_of_words</th>\n",
       "      <th>target</th>\n",
       "      <th>final_text</th>\n",
       "    </tr>\n",
       "  </thead>\n",
       "  <tbody>\n",
       "    <tr>\n",
       "      <th>0</th>\n",
       "      <td>I was wondering if anyone out there could enli...</td>\n",
       "      <td>automobile</td>\n",
       "      <td>91</td>\n",
       "      <td>1</td>\n",
       "      <td>wondering anyone could enlighten car sawthe da...</td>\n",
       "    </tr>\n",
       "    <tr>\n",
       "      <th>1</th>\n",
       "      <td>A fair number of brave souls who upgraded thei...</td>\n",
       "      <td>computer</td>\n",
       "      <td>90</td>\n",
       "      <td>2</td>\n",
       "      <td>fair number brave soul upgraded si clock oscil...</td>\n",
       "    </tr>\n",
       "    <tr>\n",
       "      <th>2</th>\n",
       "      <td>well folks, my mac plus finally gave up the gh...</td>\n",
       "      <td>computer</td>\n",
       "      <td>307</td>\n",
       "      <td>2</td>\n",
       "      <td>well folk mac plus finally gave ghost weekend ...</td>\n",
       "    </tr>\n",
       "  </tbody>\n",
       "</table>\n",
       "</div>"
      ],
      "text/plain": [
       "                                                text       label  \\\n",
       "0  I was wondering if anyone out there could enli...  automobile   \n",
       "1  A fair number of brave souls who upgraded thei...    computer   \n",
       "2  well folks, my mac plus finally gave up the gh...    computer   \n",
       "\n",
       "   Number_of_words  target                                         final_text  \n",
       "0               91       1  wondering anyone could enlighten car sawthe da...  \n",
       "1               90       2  fair number brave soul upgraded si clock oscil...  \n",
       "2              307       2  well folk mac plus finally gave ghost weekend ...  "
      ]
     },
     "execution_count": 34,
     "metadata": {},
     "output_type": "execute_result"
    }
   ],
   "source": [
    "df.head(3)\n",
    "df_ml.head(3)"
   ]
  },
  {
   "cell_type": "markdown",
   "metadata": {},
   "source": [
    "### Classification | Machine Learning | Classical | Research & Development\n",
    "* [Table of Contents](#toc)\n",
    "<a class=\"anchor\" id=\"second\"></a>"
   ]
  },
  {
   "cell_type": "code",
   "execution_count": 35,
   "metadata": {},
   "outputs": [
    {
     "data": {
      "text/plain": [
       "array([1, 2, 7, 4, 3, 5, 6, 0, 8])"
      ]
     },
     "execution_count": 35,
     "metadata": {},
     "output_type": "execute_result"
    }
   ],
   "source": [
    "df['target'].unique()"
   ]
  },
  {
   "cell_type": "markdown",
   "metadata": {},
   "source": [
    "#### Vectorize and Split Dataset into X/y:"
   ]
  },
  {
   "cell_type": "code",
   "execution_count": 36,
   "metadata": {},
   "outputs": [
    {
     "data": {
      "text/plain": [
       "<AxesSubplot:xlabel='target', ylabel='count'>"
      ]
     },
     "execution_count": 36,
     "metadata": {},
     "output_type": "execute_result"
    },
    {
     "data": {
      "image/png": "[encoded data removed]",
      "text/plain": [
       "<Figure size 432x288 with 1 Axes>"
      ]
     },
     "metadata": {
      "needs_background": "light"
     },
     "output_type": "display_data"
    }
   ],
   "source": [
    "from sklearn.feature_extraction.text import CountVectorizer\n",
    "from sklearn.model_selection import train_test_split\n",
    "\n",
    "cv = CountVectorizer(max_features= 2000)\n",
    "X= cv.fit_transform(df_ml['final_text']).toarray()\n",
    "y= df_ml['target']\n",
    "x_train,x_test,y_train,y_test = train_test_split(X,y,test_size=0.25,stratify=y,random_state=4)\n",
    "\n",
    "sns.countplot(y_test)"
   ]
  },
  {
   "cell_type": "markdown",
   "metadata": {},
   "source": [
    "### Classification Machine Learning Models\n",
    "* [Table of Contents](#toc)\n",
    "<a class=\"anchor\" id=\"third\"></a>"
   ]
  },
  {
   "cell_type": "code",
   "execution_count": 37,
   "metadata": {},
   "outputs": [],
   "source": [
    "# Variables for classification models:\n",
    "\n",
    "LABELS = [8, 7, 6, 5, 4, 3, 2, 1, 0] # Used for accuracy labeling for predictions:"
   ]
  },
  {
   "cell_type": "code",
   "execution_count": 38,
   "metadata": {},
   "outputs": [
    {
     "name": "stdout",
     "output_type": "stream",
     "text": [
      "***RandomForest Classifier Model***\n",
      "Accuracy Score: 65.83 %\n",
      "Confusion Matrix\n",
      "[[228   9   0   1  18   0  24   8   2]\n",
      " [ 22 188   5   4  46   2 142  25   0]\n",
      " [  8   5  64   2   3   0  55   7   0]\n",
      " [ 13   3   0 157  37   2  18   4   4]\n",
      " [ 15  15   4   3 287   1  41  18   0]\n",
      " [  6  12   1   2  16  69  31   7   0]\n",
      " [ 23  12  13   3  12   0 642  12   0]\n",
      " [ 20  15   9   5  21   1  48 167   0]\n",
      " [  7   1   1  39  32   2  18   6  11]]\n",
      "Classification report for Random Classifier Model : \n",
      "               precision    recall  f1-score   support\n",
      "\n",
      "           8       0.67      0.79      0.72       290\n",
      "           7       0.72      0.43      0.54       434\n",
      "           6       0.66      0.44      0.53       144\n",
      "           5       0.73      0.66      0.69       238\n",
      "           4       0.61      0.75      0.67       384\n",
      "           3       0.90      0.48      0.62       144\n",
      "           2       0.63      0.90      0.74       717\n",
      "           1       0.66      0.58      0.62       286\n",
      "           0       0.65      0.09      0.16       117\n",
      "\n",
      "    accuracy                           0.66      2754\n",
      "   macro avg       0.69      0.57      0.59      2754\n",
      "weighted avg       0.67      0.66      0.64      2754\n",
      "\n"
     ]
    }
   ],
   "source": [
    "from sklearn.metrics import accuracy_score, confusion_matrix\n",
    "from sklearn.ensemble import RandomForestClassifier\n",
    "\n",
    "print(\"***RandomForest Classifier Model***\")\n",
    "rfc_model = RandomForestClassifier(n_estimators=1000,criterion='entropy')\n",
    "rfc_model.fit(x_train,y_train)\n",
    "y_pred = rfc_model.predict(x_test)\n",
    "rfc_acc_score= accuracy_score(y_test,y_pred)\n",
    "print(\"Accuracy Score:\", round(rfc_acc_score * 100,2),\"%\")\n",
    "print(\"Confusion Matrix\")\n",
    "rfc_cm = confusion_matrix(y_test, y_pred, labels=LABELS)\n",
    "print(rfc_cm)\n",
    "\n",
    "# classification report for precision, recall f1-score and accuracy\n",
    "matrix = classification_report(y_test,y_pred,labels=LABELS)\n",
    "print('Classification report for Random Classifier Model : \\n',matrix)"
   ]
  },
  {
   "cell_type": "code",
   "execution_count": 39,
   "metadata": {},
   "outputs": [
    {
     "name": "stdout",
     "output_type": "stream",
     "text": [
      "***Naive Bayes Model***\n",
      "Accuracy Score: 45.32 %\n",
      "Confusion Matrix\n",
      "[[183   4  48   1  17   6   0   6  25]\n",
      " [ 20 187  68  14   5  29  41  36  34]\n",
      " [  4   5  84   2   5   7  23  11   3]\n",
      " [ 15   1  15  97  27   5   3   2  73]\n",
      " [ 28  16  40  54 148  13   1  28  56]\n",
      " [  3   8  15  11   9  63   3   5  27]\n",
      " [ 22  17 217   3   1  79 311  36  31]\n",
      " [ 25   7  84   5  11   5   9 117  23]\n",
      " [  3   0  17  23  14   0   0   2  58]]\n",
      "Classification report Naive Bayes Model : \n",
      "               precision    recall  f1-score   support\n",
      "\n",
      "           8       0.60      0.63      0.62       290\n",
      "           7       0.76      0.43      0.55       434\n",
      "           6       0.14      0.58      0.23       144\n",
      "           5       0.46      0.41      0.43       238\n",
      "           4       0.62      0.39      0.48       384\n",
      "           3       0.30      0.44      0.36       144\n",
      "           2       0.80      0.43      0.56       717\n",
      "           1       0.48      0.41      0.44       286\n",
      "           0       0.18      0.50      0.26       117\n",
      "\n",
      "    accuracy                           0.45      2754\n",
      "   macro avg       0.48      0.47      0.44      2754\n",
      "weighted avg       0.60      0.45      0.49      2754\n",
      "\n"
     ]
    }
   ],
   "source": [
    "from sklearn.naive_bayes import GaussianNB\n",
    "\n",
    "print(\"***Naive Bayes Model***\")\n",
    "gnb_model = GaussianNB()\n",
    "gnb_model.fit(x_train,y_train)\n",
    "y_pred = gnb_model.predict(x_test)\n",
    "gnb_acc_score= accuracy_score(y_test,y_pred)\n",
    "print(\"Accuracy Score:\", round(gnb_acc_score * 100,2),\"%\")\n",
    "print(\"Confusion Matrix\")\n",
    "gnb_cm = confusion_matrix(y_test, y_pred, labels=LABELS)\n",
    "print(gnb_cm)\n",
    "\n",
    "# classification report for precision, recall f1-score and accuracy\n",
    "matrix = classification_report(y_test,y_pred,labels=LABELS)\n",
    "print('Classification report Naive Bayes Model : \\n',matrix)"
   ]
  },
  {
   "cell_type": "code",
   "execution_count": 40,
   "metadata": {},
   "outputs": [
    {
     "name": "stdout",
     "output_type": "stream",
     "text": [
      "***Decision Tree Classifer Model***\n",
      "Accuracy Score: 55.3 %\n",
      "Confusion Matrix\n",
      "[[206  17   2   5  18   6  26   7   3]\n",
      " [ 17 201  12   8  46  18  96  25  11]\n",
      " [ 11  19  54   3   4   2  42   9   0]\n",
      " [ 13  15   2 116  36   5  10  10  31]\n",
      " [ 30  48   6  20 208   7  29  20  16]\n",
      " [  5  11   4   4  16  67  22  12   3]\n",
      " [ 32  72  44  14  27   7 498  19   4]\n",
      " [ 24  28  12   9  28   7  31 143   4]\n",
      " [ 12   7   3  26  19   6   6   8  30]]\n",
      "Classification reportDecision Tree Classifer Model : \n",
      "               precision    recall  f1-score   support\n",
      "\n",
      "           8       0.59      0.71      0.64       290\n",
      "           7       0.48      0.46      0.47       434\n",
      "           6       0.39      0.38      0.38       144\n",
      "           5       0.57      0.49      0.52       238\n",
      "           4       0.52      0.54      0.53       384\n",
      "           3       0.54      0.47      0.50       144\n",
      "           2       0.66      0.69      0.67       717\n",
      "           1       0.57      0.50      0.53       286\n",
      "           0       0.29      0.26      0.27       117\n",
      "\n",
      "    accuracy                           0.55      2754\n",
      "   macro avg       0.51      0.50      0.50      2754\n",
      "weighted avg       0.55      0.55      0.55      2754\n",
      "\n"
     ]
    }
   ],
   "source": [
    "from sklearn import tree\n",
    "from sklearn.tree import DecisionTreeClassifier\n",
    "\n",
    "print(\"***Decision Tree Classifer Model***\")\n",
    "dtc_model = tree.DecisionTreeClassifier()\n",
    "dtc_model.fit(x_train,y_train)\n",
    "y_pred = dtc_model.predict(x_test)\n",
    "dtc_acc_score= accuracy_score(y_test,y_pred)\n",
    "print(\"Accuracy Score:\", round(dtc_acc_score * 100,2),\"%\")\n",
    "print(\"Confusion Matrix\")\n",
    "dtc_cm = confusion_matrix(y_test, y_pred, labels=LABELS)\n",
    "print(dtc_cm)\n",
    "\n",
    "# classification report for precision, recall f1-score and accuracy\n",
    "matrix = classification_report(y_test,y_pred,labels=LABELS)\n",
    "print('Classification reportDecision Tree Classifer Model : \\n',matrix)"
   ]
  },
  {
   "cell_type": "markdown",
   "metadata": {},
   "source": [
    "### Neural Network Models | Research & Development"
   ]
  },
  {
   "cell_type": "code",
   "execution_count": 41,
   "metadata": {},
   "outputs": [
    {
     "name": "stdout",
     "output_type": "stream",
     "text": [
      "nominate\t⇒ 16643\n",
      "last\t\t⇒ 74\n",
      "bit\t\t⇒ 124\n",
      "antistathead\t⇒ 765\n",
      "quote\t\t⇒ 47\n",
      "weekalomar\t⇒ 1166\n",
      "point\t\t⇒ 365\n",
      "advantage\t⇒ 6451\n",
      "important\t⇒ 3845\n",
      "offensivecategory\t⇒ 1902\n",
      "baerga\t\t⇒ 5580\n",
      "studied\t\t⇒ 552\n",
      "joe\t\t⇒ 2731\n",
      "carter\t\t⇒ 13796\n",
      "school\t\t⇒ 1490\n",
      "outburninghas\t⇒ 3113\n",
      "impressive\t⇒ 493\n",
      "mediot\t\t⇒ 1385\n",
      "stats\t\t⇒ 5836\n",
      "largely\t\t⇒ 16644\n",
      "Shape of train tensor: (8260, 5966)\n",
      "Shape of test tensor: (2754, 5966)\n"
     ]
    }
   ],
   "source": [
    "from tensorboard.plugins import projector\n",
    "from tensorflow.keras.preprocessing.sequence import pad_sequences\n",
    "import tensorflow as tf\n",
    "\n",
    "num_classes = len(df_ml[\"target\"].value_counts())\n",
    "\n",
    "y = tf.keras.utils.to_categorical(df[\"target\"].values, num_classes=num_classes)\n",
    "x_train, x_test, y_train, y_test = train_test_split(df_ml['final_text'], y, test_size=0.25)\n",
    "\n",
    "# maximum number of words to keep\n",
    "max_vocab_size = 20000\n",
    "\n",
    "#instance of the Tokenizer class\n",
    "tokenizer = tf.keras.preprocessing.text.Tokenizer(num_words=max_vocab_size)\n",
    "\n",
    "# fit tokenizer on the train set\n",
    "tokenizer.fit_on_texts(x_train)\n",
    "\n",
    "# create numeric sequences for train and validation sets\n",
    "sequences_train = tokenizer.texts_to_sequences(x_train)\n",
    "sequences_test = tokenizer.texts_to_sequences(x_test)\n",
    "\n",
    "def show_rand_seq(seq_index=0, seq_size=20):\n",
    "    \n",
    "  '''Display the first \"seq_size\" tokenized words of the text sample of index \"seq_index\" '''\n",
    "  \n",
    "  seq_len = seq_size if len(x_train.iloc[seq_index].split(\" \")) > seq_size else len(x_train.iloc[seq_index].split(\" \"))\n",
    "  seq_words = x_train.iloc[seq_index].split(\" \")\n",
    "  seq_ints = sequences_train[seq_index]\n",
    "  for i in range(0, seq_len):\n",
    "    pad = \"\\t\" if len(seq_words[i]) > 7 else \"\\t\\t\"\n",
    "    print(seq_words[i] + pad + \"\\u21d2 \" + str(seq_ints[i]))\n",
    "\n",
    "show_rand_seq()\n",
    "\n",
    "# dictionary -> (word: integer)\n",
    "wordindex_dict = tokenizer.word_index\n",
    "\n",
    "# number of unique words\n",
    "words = len(wordindex_dict)\n",
    "\n",
    "# Padding:\n",
    "\n",
    "data_train = pad_sequences(sequences_train)\n",
    "sequence_length = data_train.shape[1]\n",
    "data_test = pad_sequences(sequences_test, maxlen=sequence_length)\n",
    "\n",
    "print('Shape of train tensor:', data_train.shape)\n",
    "print('Shape of test tensor:', data_test.shape)\n",
    "\n",
    "embedding_dimensionality = 30\n",
    "hidden_state_dimensionality = 60\n",
    "\n",
    "i = tf.keras.layers.Input(shape=(sequence_length,))\n",
    "x = tf.keras.layers.Embedding(words+1, embedding_dimensionality)(i)\n",
    "x = tf.keras.layers.Dropout(0.3)(x)\n",
    "x = tf.keras.layers.Dense(100)(x)\n",
    "x = tf.keras.layers.Dropout(0.3)(x)\n",
    "x = tf.keras.layers.GlobalMaxPooling1D()(x)\n",
    "x = tf.keras.layers.Dense(num_classes, activation='softmax')(x)\n",
    "\n",
    "model = tf.keras.models.Model(i, x)\n",
    "\n",
    "model.summary()"
   ]
  },
  {
   "cell_type": "code",
   "execution_count": 42,
   "metadata": {},
   "outputs": [
    {
     "name": "stdout",
     "output_type": "stream",
     "text": [
      "Epoch 1/50\n",
      "259/259 [==============================] - 123s 474ms/step - loss: 1.9236 - accuracy: 0.3042 - val_loss: 1.6599 - val_accuracy: 0.5577\n",
      "Epoch 2/50\n",
      "259/259 [==============================] - 124s 480ms/step - loss: 1.2283 - accuracy: 0.6277 - val_loss: 1.1078 - val_accuracy: 0.6823\n",
      "Epoch 3/50\n",
      "259/259 [==============================] - 123s 474ms/step - loss: 0.8348 - accuracy: 0.7470 - val_loss: 0.9016 - val_accuracy: 0.7251\n",
      "Epoch 4/50\n",
      "259/259 [==============================] - 123s 476ms/step - loss: 0.6203 - accuracy: 0.8113 - val_loss: 0.8104 - val_accuracy: 0.7415\n",
      "Epoch 5/50\n",
      "259/259 [==============================] - 123s 477ms/step - loss: 0.4806 - accuracy: 0.8576 - val_loss: 0.7749 - val_accuracy: 0.7564\n",
      "Epoch 6/50\n",
      "259/259 [==============================] - 124s 478ms/step - loss: 0.3724 - accuracy: 0.8947 - val_loss: 0.7467 - val_accuracy: 0.7596\n",
      "Epoch 7/50\n",
      "259/259 [==============================] - 123s 474ms/step - loss: 0.2939 - accuracy: 0.9186 - val_loss: 0.7555 - val_accuracy: 0.7607\n",
      "Epoch 8/50\n",
      "259/259 [==============================] - 122s 470ms/step - loss: 0.2351 - accuracy: 0.9323 - val_loss: 0.7455 - val_accuracy: 0.7669\n",
      "Epoch 9/50\n",
      "259/259 [==============================] - 123s 473ms/step - loss: 0.1802 - accuracy: 0.9527 - val_loss: 0.7504 - val_accuracy: 0.7614\n",
      "Epoch 10/50\n",
      "259/259 [==============================] - 122s 471ms/step - loss: 0.1423 - accuracy: 0.9623 - val_loss: 0.7638 - val_accuracy: 0.7618\n",
      "Epoch 11/50\n",
      "259/259 [==============================] - 123s 474ms/step - loss: 0.1137 - accuracy: 0.9726 - val_loss: 0.7826 - val_accuracy: 0.7560\n",
      "Epoch 12/50\n",
      "259/259 [==============================] - 122s 470ms/step - loss: 0.0968 - accuracy: 0.9752 - val_loss: 0.8033 - val_accuracy: 0.7560\n",
      "Epoch 13/50\n",
      "259/259 [==============================] - 122s 473ms/step - loss: 0.0816 - accuracy: 0.9795 - val_loss: 0.8293 - val_accuracy: 0.7545\n"
     ]
    }
   ],
   "source": [
    "earlystop_callback = tf.keras.callbacks.EarlyStopping(monitor='val_loss', \n",
    "                                                      patience=5, \n",
    "                                                      restore_best_weights=True)\n",
    "\n",
    "METRICS = [  \n",
    "      tf.keras.metrics.CategoricalAccuracy(name=\"accuracy\")  \n",
    "]\n",
    "\n",
    "model.compile(\n",
    "  loss='categorical_crossentropy',\n",
    "  optimizer='adam',\n",
    "  metrics=METRICS\n",
    ")\n",
    "\n",
    "model_fit=model.fit(\n",
    "  data_train,\n",
    "  y_train,\n",
    "  epochs=50,\n",
    "  validation_data=(data_test, y_test),\n",
    "  callbacks=[earlystop_callback]\n",
    ")"
   ]
  },
  {
   "cell_type": "code",
   "execution_count": 51,
   "metadata": {},
   "outputs": [
    {
     "name": "stdout",
     "output_type": "stream",
     "text": [
      "87/87 [==============================] - 6s 71ms/step - loss: 0.7455 - accuracy: 0.7669\n",
      "Test score: 0.7455283403396606\n",
      "Test accuracy: 0.7668845057487488\n"
     ]
    }
   ],
   "source": [
    "score, acc = model.evaluate(data_test, y_test)\n",
    "print('Test score:', score)\n",
    "print('Test accuracy:', acc)"
   ]
  },
  {
   "cell_type": "code",
   "execution_count": 55,
   "metadata": {},
   "outputs": [
    {
     "data": {
      "image/png": "[encoded data removed]",
      "text/plain": [
       "<Figure size 432x288 with 1 Axes>"
      ]
     },
     "metadata": {
      "needs_background": "light"
     },
     "output_type": "display_data"
    }
   ],
   "source": [
    "plt.plot(model_fit.history['accuracy'], label = 'Accuracy')\n",
    "plt.plot(model_fit.history['val_accuracy'], label = 'Validation Accuracy')\n",
    "plt.title('Model Accuracy')\n",
    "plt.ylabel('Accuracy')\n",
    "plt.xlabel('Epoch')\n",
    "plt.legend(['Train', 'Test'], loc='upper left')\n",
    "plt.show()"
   ]
  },
  {
   "cell_type": "code",
   "execution_count": 56,
   "metadata": {},
   "outputs": [
    {
     "data": {
      "image/png": "[encoded data removed]",
      "text/plain": [
       "<Figure size 432x288 with 1 Axes>"
      ]
     },
     "metadata": {
      "needs_background": "light"
     },
     "output_type": "display_data"
    }
   ],
   "source": [
    "plt.plot(model_fit.history['loss'], label = 'Loss')\n",
    "plt.plot(model_fit.history['val_loss'], label = 'Validation Loss')\n",
    "plt.title('Model Accuracy')\n",
    "plt.ylabel('Accuracy')\n",
    "plt.xlabel('Epoch')\n",
    "plt.legend(['Train', 'Test'], loc='upper left')\n",
    "plt.show()"
   ]
  },
  {
   "cell_type": "code",
   "execution_count": 52,
   "metadata": {},
   "outputs": [
    {
     "ename": "InvalidArgumentError",
     "evalue": "Shapes of all inputs must match: values[0].shape = [8260] != values[1].shape = [2754] [Op:Pack] name: stack",
     "output_type": "error",
     "traceback": [
      "\u001b[1;31m---------------------------------------------------------------------------\u001b[0m",
      "\u001b[1;31mInvalidArgumentError\u001b[0m                      Traceback (most recent call last)",
      "Input \u001b[1;32mIn [52]\u001b[0m, in \u001b[0;36m<module>\u001b[1;34m\u001b[0m\n\u001b[0;32m      1\u001b[0m \u001b[38;5;66;03m# compute confusion matrix with `tf` \u001b[39;00m\n\u001b[1;32m----> 2\u001b[0m confusion \u001b[38;5;241m=\u001b[39m \u001b[43mtf\u001b[49m\u001b[38;5;241;43m.\u001b[39;49m\u001b[43mmath\u001b[49m\u001b[38;5;241;43m.\u001b[39;49m\u001b[43mconfusion_matrix\u001b[49m\u001b[43m(\u001b[49m\n\u001b[0;32m      3\u001b[0m \u001b[43m              \u001b[49m\u001b[43mlabels\u001b[49m\u001b[43m \u001b[49m\u001b[38;5;241;43m=\u001b[39;49m\u001b[43m \u001b[49m\u001b[43mnp\u001b[49m\u001b[38;5;241;43m.\u001b[39;49m\u001b[43margmax\u001b[49m\u001b[43m(\u001b[49m\u001b[43my_train\u001b[49m\u001b[43m,\u001b[49m\u001b[43m \u001b[49m\u001b[43maxis\u001b[49m\u001b[38;5;241;43m=\u001b[39;49m\u001b[38;5;241;43m1\u001b[39;49m\u001b[43m)\u001b[49m\u001b[43m,\u001b[49m\u001b[43m      \u001b[49m\u001b[38;5;66;43;03m# get trule labels \u001b[39;49;00m\n\u001b[0;32m      4\u001b[0m \u001b[43m              \u001b[49m\u001b[43mpredictions\u001b[49m\u001b[43m \u001b[49m\u001b[38;5;241;43m=\u001b[39;49m\u001b[43m \u001b[49m\u001b[43mnp\u001b[49m\u001b[38;5;241;43m.\u001b[39;49m\u001b[43margmax\u001b[49m\u001b[43m(\u001b[49m\u001b[43my_pred\u001b[49m\u001b[43m,\u001b[49m\u001b[43m \u001b[49m\u001b[43maxis\u001b[49m\u001b[38;5;241;43m=\u001b[39;49m\u001b[38;5;241;43m1\u001b[39;49m\u001b[43m)\u001b[49m\u001b[43m,\u001b[49m\u001b[43m  \u001b[49m\u001b[38;5;66;43;03m# get predicted labels \u001b[39;49;00m\n\u001b[0;32m      5\u001b[0m \u001b[43m              \u001b[49m\u001b[43mnum_classes\u001b[49m\u001b[38;5;241;43m=\u001b[39;49m\u001b[43mnum_classes\u001b[49m\u001b[43m)\u001b[49m \n\u001b[0;32m      7\u001b[0m \u001b[38;5;28mprint\u001b[39m(confusion)\n",
      "File \u001b[1;32m~\\DS_Code_Env\\Python\\Python39\\lib\\site-packages\\tensorflow\\python\\util\\traceback_utils.py:153\u001b[0m, in \u001b[0;36mfilter_traceback.<locals>.error_handler\u001b[1;34m(*args, **kwargs)\u001b[0m\n\u001b[0;32m    151\u001b[0m \u001b[38;5;28;01mexcept\u001b[39;00m \u001b[38;5;167;01mException\u001b[39;00m \u001b[38;5;28;01mas\u001b[39;00m e:\n\u001b[0;32m    152\u001b[0m   filtered_tb \u001b[38;5;241m=\u001b[39m _process_traceback_frames(e\u001b[38;5;241m.\u001b[39m__traceback__)\n\u001b[1;32m--> 153\u001b[0m   \u001b[38;5;28;01mraise\u001b[39;00m e\u001b[38;5;241m.\u001b[39mwith_traceback(filtered_tb) \u001b[38;5;28;01mfrom\u001b[39;00m \u001b[38;5;28mNone\u001b[39m\n\u001b[0;32m    154\u001b[0m \u001b[38;5;28;01mfinally\u001b[39;00m:\n\u001b[0;32m    155\u001b[0m   \u001b[38;5;28;01mdel\u001b[39;00m filtered_tb\n",
      "File \u001b[1;32m~\\DS_Code_Env\\Python\\Python39\\lib\\site-packages\\tensorflow\\python\\framework\\ops.py:7107\u001b[0m, in \u001b[0;36mraise_from_not_ok_status\u001b[1;34m(e, name)\u001b[0m\n\u001b[0;32m   7105\u001b[0m \u001b[38;5;28;01mdef\u001b[39;00m \u001b[38;5;21mraise_from_not_ok_status\u001b[39m(e, name):\n\u001b[0;32m   7106\u001b[0m   e\u001b[38;5;241m.\u001b[39mmessage \u001b[38;5;241m+\u001b[39m\u001b[38;5;241m=\u001b[39m (\u001b[38;5;124m\"\u001b[39m\u001b[38;5;124m name: \u001b[39m\u001b[38;5;124m\"\u001b[39m \u001b[38;5;241m+\u001b[39m name \u001b[38;5;28;01mif\u001b[39;00m name \u001b[38;5;129;01mis\u001b[39;00m \u001b[38;5;129;01mnot\u001b[39;00m \u001b[38;5;28;01mNone\u001b[39;00m \u001b[38;5;28;01melse\u001b[39;00m \u001b[38;5;124m\"\u001b[39m\u001b[38;5;124m\"\u001b[39m)\n\u001b[1;32m-> 7107\u001b[0m   \u001b[38;5;28;01mraise\u001b[39;00m core\u001b[38;5;241m.\u001b[39m_status_to_exception(e) \u001b[38;5;28;01mfrom\u001b[39;00m \u001b[38;5;28mNone\u001b[39m\n",
      "\u001b[1;31mInvalidArgumentError\u001b[0m: Shapes of all inputs must match: values[0].shape = [8260] != values[1].shape = [2754] [Op:Pack] name: stack"
     ]
    }
   ],
   "source": [
    "# compute confusion matrix with `tf` \n",
    "confusion = tf.math.confusion_matrix(\n",
    "              labels = np.argmax(y_train, axis=1),      # get trule labels \n",
    "              predictions = np.argmax(y_pred, axis=1),  # get predicted labels \n",
    "              num_classes=num_classes) \n",
    "\n",
    "print(confusion)"
   ]
  },
  {
   "cell_type": "code",
   "execution_count": null,
   "metadata": {},
   "outputs": [],
   "source": []
  },
  {
   "cell_type": "code",
   "execution_count": null,
   "metadata": {},
   "outputs": [],
   "source": []
  },
  {
   "cell_type": "markdown",
   "metadata": {},
   "source": [
    "### Multi-Layer Perceptron | Classifier"
   ]
  },
  {
   "cell_type": "code",
   "execution_count": null,
   "metadata": {},
   "outputs": [],
   "source": [
    "# set the indep and dep variable:\n",
    "X = nn_test_2.loc[:, nn_test_2.columns != '2020_result']\n",
    "y = nn_test_2.filter(['2020_result'])\n",
    "\n",
    "# train and test split:\n",
    "X_train,X_test,y_train,y_test = train_test_split(X,y,test_size=0.2,random_state=0)\n",
    "scaler = StandardScaler()\n",
    "\n",
    "# Fit only to the training data\n",
    "scaler.fit(X_train)\n",
    "\n",
    "# Now apply the transformations to the data:\n",
    "X_train = scaler.transform(X_train)\n",
    "X_test = scaler.transform(X_test)\n",
    "\n",
    "parameter_space = {\n",
    "    'hidden_layer_sizes': [(100,100,100)],\n",
    "    'activation': ['relu'],\n",
    "    'solver': ['adam'],\n",
    "    'alpha': [0.05],\n",
    "    'learning_rate': ['adaptive'],\n",
    "    'max_iter': [100],\n",
    "    'random_state': [1],\n",
    "    'batch_size': [20]\n",
    "}\n",
    "\n",
    "mlp = MLPClassifier()\n",
    "\n",
    "clf = GridSearchCV(mlp, parameter_space, scoring='accuracy', cv=3)\n",
    "clf.fit(X_train, y_train.values.ravel())\n",
    "\n",
    "# Best paramete set\n",
    "print('Best parameters found:\\n', clf.best_params_)\n",
    "\n",
    "# All results:  Uncomment to view all possible combinations based on acceptable results.\n",
    "#means = clf.cv_results_['mean_test_score']\n",
    "#stds = clf.cv_results_['std_test_score']\n",
    "#for mean, std, params in zip(means, stds, clf.cv_results_['params']):\n",
    "#    print(\"%0.3f (+/-%0.03f) for %r\" % (mean, std * 2, params))\n",
    "\n",
    "y_true, y_pred = y_test , clf.predict(X_test)\n",
    "\n",
    "print('Results on the test set:')\n",
    "print(confusion_matrix(y_true,y_pred))\n",
    "print(classification_report(y_true,y_pred))\n",
    "\n",
    "#Get the confusion matrix\n",
    "cf_matrix = confusion_matrix(y_true,y_pred)\n",
    "print(cf_matrix)\n",
    "group_names = ['True Neg','False Pos','False Neg','True Pos']\n",
    "group_counts = [\"{0:0.0f}\".format(value) for value in\n",
    "                cf_matrix.flatten()]\n",
    "\n",
    "group_percentages = [\"{0:.2%}\".format(value) for value in\n",
    "                     cf_matrix.flatten()/np.sum(cf_matrix)]\n",
    "\n",
    "labels = [f\"{v1}\\n{v2}\\n{v3}\" for v1, v2, v3 in\n",
    "          zip(group_names,group_counts,group_percentages)]\n",
    "\n",
    "labels = np.asarray(labels).reshape(2,2)\n",
    "sns.heatmap(cf_matrix, annot=labels, fmt='', cmap='Blues')\n",
    "\n",
    "mlptest = str(clf.score(X_test, y_test))\n",
    "mlptrain = str(clf.score(X_train, y_train))\n",
    "print(\"score on test: \" + mlptest)\n",
    "print(\"score on train: \" + mlptrain)\n",
    "\n",
    "kf = KFold(n_splits=5)\n",
    "\n",
    "print('K-Fold by 5 for model performance (results in % of accuracy)')\n",
    "for train_indices, test_indices in kf.split(X):\n",
    "    mlp.fit(X_train, y_train.values.ravel())\n",
    "    print(mlp.score(X_test, y_test.values.ravel()))"
   ]
  },
  {
   "cell_type": "code",
   "execution_count": null,
   "metadata": {},
   "outputs": [],
   "source": []
  },
  {
   "cell_type": "code",
   "execution_count": null,
   "metadata": {},
   "outputs": [],
   "source": []
  },
  {
   "cell_type": "code",
   "execution_count": null,
   "metadata": {},
   "outputs": [],
   "source": []
  },
  {
   "cell_type": "code",
   "execution_count": null,
   "metadata": {},
   "outputs": [],
   "source": []
  },
  {
   "cell_type": "code",
   "execution_count": null,
   "metadata": {},
   "outputs": [],
   "source": []
  }
 ],
 "metadata": {
  "interpreter": {
   "hash": "dc821de16bb3e2f001427d4cafc0e267d9ba99d8d897c63647be6ea050924260"
  },
  "kernelspec": {
   "display_name": "Python 3.9.8 64-bit",
   "language": "python",
   "name": "python3"
  },
  "language_info": {
   "codemirror_mode": {
    "name": "ipython",
    "version": 3
   },
   "file_extension": ".py",
   "mimetype": "text/x-python",
   "name": "python",
   "nbconvert_exporter": "python",
   "pygments_lexer": "ipython3",
   "version": "3.9.6"
  },
  "orig_nbformat": 4
 },
 "nbformat": 4,
 "nbformat_minor": 2
}
